{
 "cells": [
  {
   "cell_type": "code",
   "execution_count": 1,
   "metadata": {},
   "outputs": [],
   "source": [
    "import numpy as np\n",
    "import pandas as pd\n",
    "import matplotlib.pyplot as plt\n",
    "import time\n",
    "import csv\n",
    "from sklearn.metrics import accuracy_score\n",
    "import seaborn as sns\n",
    "import pylab\n",
    "from sklearn import neighbors\n",
    "from sklearn.model_selection import train_test_split"
   ]
  },
  {
   "cell_type": "code",
   "execution_count": 2,
   "metadata": {},
   "outputs": [],
   "source": [
    "from os import listdir\n",
    "a_traincsv = listdir('Desktop/sepsiss/training_setA/training/')\n",
    "b_traincsv = listdir('Desktop/sepsiss/training_setB/training_setB/')"
   ]
  },
  {
   "cell_type": "code",
   "execution_count": 3,
   "metadata": {},
   "outputs": [],
   "source": [
    "with open('train_patient.csv', 'w') as csvoutput:\n",
    "  writer = csv.writer(csvoutput, lineterminator='\\n')\n",
    "\n",
    "  for ind, csv_name in enumerate(a_traincsv):\n",
    "    with open('Desktop/sepsiss/training_setA/training/'+ csv_name,'r') as csvinput:\n",
    "      reader = csv.reader(csvinput, delimiter='|')\n",
    "      all = []\n",
    "      if ind ==0 :\n",
    "        row = next(reader)\n",
    "        row.append('Patient_id')\n",
    "        row.append('time')\n",
    "        all.append(row)\n",
    "      else:\n",
    "        row = next(reader)\n",
    "\n",
    "      for i,row in enumerate(reader):\n",
    "        row.append(ind)\n",
    "        row.append(i)\n",
    "        all.append(row)\n",
    "      writer.writerows(all)\n",
    "    \n",
    "  num = ind \n",
    "  for inde, csv_name in enumerate(b_traincsv):\n",
    "    if inde < 10000:\n",
    "      num = num+1\n",
    "      with open('Desktop/sepsiss/training_setB/training_setB/'+ csv_name,'r') as csvinput:\n",
    "        reader = csv.reader(csvinput, delimiter='|')\n",
    "        all = []\n",
    "        row = next(reader)\n",
    "        for i,row in enumerate(reader):\n",
    "          row.append(num)\n",
    "          row.append(i)\n",
    "          all.append(row)\n",
    "        \n",
    "        writer.writerows(all)\n",
    "        \n",
    "\n",
    "with open('val_patient.csv', 'w') as csvoutput:\n",
    "  writer = csv.writer(csvoutput, lineterminator='\\n')\n",
    "\n",
    "  for inde, csv_name in enumerate(b_traincsv):\n",
    "    if inde >=10000 and inde <15000:\n",
    "      with open('Desktop/sepsiss/training_setB/training_setB/'+ csv_name,'r') as csvinput:\n",
    "        reader = csv.reader(csvinput, delimiter='|')\n",
    "        all = []\n",
    "        if inde ==10000 :\n",
    "          row = next(reader)\n",
    "          row.append('Patient_id')\n",
    "          row.append('time')\n",
    "          all.append(row)\n",
    "        else:\n",
    "          row = next(reader)\n",
    "        for i,row in enumerate(reader):\n",
    "          row.append(inde)\n",
    "          row.append(i)\n",
    "          all.append(row)\n",
    "        writer.writerows(all)\n",
    "        \n",
    "\n",
    "with open('test_patient.csv', 'w') as csvoutput:\n",
    "  writer = csv.writer(csvoutput, lineterminator='\\n')\n",
    "\n",
    "  for inde, csv_name in enumerate(b_traincsv):\n",
    "    if inde >=15000:\n",
    "      with open('Desktop/sepsiss/training_setB/training_setB/'+ csv_name,'r') as csvinput:\n",
    "        reader = csv.reader(csvinput, delimiter='|')\n",
    "        all = []\n",
    "        if inde ==15000 :\n",
    "          row = next(reader)\n",
    "          row.append('Patient_id')\n",
    "          row.append('time')\n",
    "          all.append(row)\n",
    "        else:\n",
    "          row = next(reader)\n",
    "        for i,row in enumerate(reader):\n",
    "          row.append(inde)\n",
    "          row.append(i)\n",
    "          all.append(row)\n",
    "\n",
    "        writer.writerows(all)\n"
   ]
  },
  {
   "cell_type": "code",
   "execution_count": 4,
   "metadata": {},
   "outputs": [],
   "source": [
    "# All about training Set"
   ]
  },
  {
   "cell_type": "code",
   "execution_count": 5,
   "metadata": {},
   "outputs": [
    {
     "data": {
      "text/html": [
       "<div>\n",
       "<style scoped>\n",
       "    .dataframe tbody tr th:only-of-type {\n",
       "        vertical-align: middle;\n",
       "    }\n",
       "\n",
       "    .dataframe tbody tr th {\n",
       "        vertical-align: top;\n",
       "    }\n",
       "\n",
       "    .dataframe thead th {\n",
       "        text-align: right;\n",
       "    }\n",
       "</style>\n",
       "<table border=\"1\" class=\"dataframe\">\n",
       "  <thead>\n",
       "    <tr style=\"text-align: right;\">\n",
       "      <th></th>\n",
       "      <th>HR</th>\n",
       "      <th>O2Sat</th>\n",
       "      <th>Temp</th>\n",
       "      <th>SBP</th>\n",
       "      <th>MAP</th>\n",
       "      <th>DBP</th>\n",
       "      <th>Resp</th>\n",
       "      <th>EtCO2</th>\n",
       "      <th>BaseExcess</th>\n",
       "      <th>HCO3</th>\n",
       "      <th>...</th>\n",
       "      <th>Platelets</th>\n",
       "      <th>Age</th>\n",
       "      <th>Gender</th>\n",
       "      <th>Unit1</th>\n",
       "      <th>Unit2</th>\n",
       "      <th>HospAdmTime</th>\n",
       "      <th>ICULOS</th>\n",
       "      <th>SepsisLabel</th>\n",
       "      <th>Patient_id</th>\n",
       "      <th>time</th>\n",
       "    </tr>\n",
       "  </thead>\n",
       "  <tbody>\n",
       "    <tr>\n",
       "      <td>0</td>\n",
       "      <td>124.0</td>\n",
       "      <td>98.0</td>\n",
       "      <td>36.78</td>\n",
       "      <td>121.0</td>\n",
       "      <td>72.0</td>\n",
       "      <td>51.0</td>\n",
       "      <td>23.0</td>\n",
       "      <td>NaN</td>\n",
       "      <td>NaN</td>\n",
       "      <td>18.0</td>\n",
       "      <td>...</td>\n",
       "      <td>267.0</td>\n",
       "      <td>71.44</td>\n",
       "      <td>1</td>\n",
       "      <td>1.0</td>\n",
       "      <td>0.0</td>\n",
       "      <td>-0.02</td>\n",
       "      <td>3</td>\n",
       "      <td>0</td>\n",
       "      <td>0</td>\n",
       "      <td>0</td>\n",
       "    </tr>\n",
       "    <tr>\n",
       "      <td>1</td>\n",
       "      <td>116.0</td>\n",
       "      <td>97.0</td>\n",
       "      <td>NaN</td>\n",
       "      <td>124.0</td>\n",
       "      <td>77.0</td>\n",
       "      <td>57.0</td>\n",
       "      <td>22.0</td>\n",
       "      <td>NaN</td>\n",
       "      <td>NaN</td>\n",
       "      <td>NaN</td>\n",
       "      <td>...</td>\n",
       "      <td>NaN</td>\n",
       "      <td>71.44</td>\n",
       "      <td>1</td>\n",
       "      <td>1.0</td>\n",
       "      <td>0.0</td>\n",
       "      <td>-0.02</td>\n",
       "      <td>4</td>\n",
       "      <td>0</td>\n",
       "      <td>0</td>\n",
       "      <td>1</td>\n",
       "    </tr>\n",
       "    <tr>\n",
       "      <td>2</td>\n",
       "      <td>118.0</td>\n",
       "      <td>96.0</td>\n",
       "      <td>NaN</td>\n",
       "      <td>104.0</td>\n",
       "      <td>64.0</td>\n",
       "      <td>47.0</td>\n",
       "      <td>23.0</td>\n",
       "      <td>NaN</td>\n",
       "      <td>NaN</td>\n",
       "      <td>NaN</td>\n",
       "      <td>...</td>\n",
       "      <td>NaN</td>\n",
       "      <td>71.44</td>\n",
       "      <td>1</td>\n",
       "      <td>1.0</td>\n",
       "      <td>0.0</td>\n",
       "      <td>-0.02</td>\n",
       "      <td>5</td>\n",
       "      <td>0</td>\n",
       "      <td>0</td>\n",
       "      <td>2</td>\n",
       "    </tr>\n",
       "    <tr>\n",
       "      <td>3</td>\n",
       "      <td>114.0</td>\n",
       "      <td>98.0</td>\n",
       "      <td>NaN</td>\n",
       "      <td>118.0</td>\n",
       "      <td>71.0</td>\n",
       "      <td>52.0</td>\n",
       "      <td>20.0</td>\n",
       "      <td>NaN</td>\n",
       "      <td>NaN</td>\n",
       "      <td>NaN</td>\n",
       "      <td>...</td>\n",
       "      <td>NaN</td>\n",
       "      <td>71.44</td>\n",
       "      <td>1</td>\n",
       "      <td>1.0</td>\n",
       "      <td>0.0</td>\n",
       "      <td>-0.02</td>\n",
       "      <td>6</td>\n",
       "      <td>0</td>\n",
       "      <td>0</td>\n",
       "      <td>3</td>\n",
       "    </tr>\n",
       "    <tr>\n",
       "      <td>4</td>\n",
       "      <td>109.0</td>\n",
       "      <td>98.0</td>\n",
       "      <td>NaN</td>\n",
       "      <td>122.0</td>\n",
       "      <td>73.0</td>\n",
       "      <td>51.0</td>\n",
       "      <td>21.0</td>\n",
       "      <td>NaN</td>\n",
       "      <td>NaN</td>\n",
       "      <td>NaN</td>\n",
       "      <td>...</td>\n",
       "      <td>NaN</td>\n",
       "      <td>71.44</td>\n",
       "      <td>1</td>\n",
       "      <td>1.0</td>\n",
       "      <td>0.0</td>\n",
       "      <td>-0.02</td>\n",
       "      <td>7</td>\n",
       "      <td>0</td>\n",
       "      <td>0</td>\n",
       "      <td>4</td>\n",
       "    </tr>\n",
       "  </tbody>\n",
       "</table>\n",
       "<p>5 rows × 43 columns</p>\n",
       "</div>"
      ],
      "text/plain": [
       "      HR  O2Sat   Temp    SBP   MAP   DBP  Resp  EtCO2  BaseExcess  HCO3  ...  \\\n",
       "0  124.0   98.0  36.78  121.0  72.0  51.0  23.0    NaN         NaN  18.0  ...   \n",
       "1  116.0   97.0    NaN  124.0  77.0  57.0  22.0    NaN         NaN   NaN  ...   \n",
       "2  118.0   96.0    NaN  104.0  64.0  47.0  23.0    NaN         NaN   NaN  ...   \n",
       "3  114.0   98.0    NaN  118.0  71.0  52.0  20.0    NaN         NaN   NaN  ...   \n",
       "4  109.0   98.0    NaN  122.0  73.0  51.0  21.0    NaN         NaN   NaN  ...   \n",
       "\n",
       "   Platelets    Age  Gender  Unit1  Unit2  HospAdmTime  ICULOS  SepsisLabel  \\\n",
       "0      267.0  71.44       1    1.0    0.0        -0.02       3            0   \n",
       "1        NaN  71.44       1    1.0    0.0        -0.02       4            0   \n",
       "2        NaN  71.44       1    1.0    0.0        -0.02       5            0   \n",
       "3        NaN  71.44       1    1.0    0.0        -0.02       6            0   \n",
       "4        NaN  71.44       1    1.0    0.0        -0.02       7            0   \n",
       "\n",
       "   Patient_id  time  \n",
       "0           0     0  \n",
       "1           0     1  \n",
       "2           0     2  \n",
       "3           0     3  \n",
       "4           0     4  \n",
       "\n",
       "[5 rows x 43 columns]"
      ]
     },
     "execution_count": 5,
     "metadata": {},
     "output_type": "execute_result"
    }
   ],
   "source": [
    "train = pd.read_csv('train_patient.csv')\n",
    "train.head()"
   ]
  },
  {
   "cell_type": "code",
   "execution_count": 6,
   "metadata": {},
   "outputs": [
    {
     "data": {
      "text/html": [
       "<div>\n",
       "<style scoped>\n",
       "    .dataframe tbody tr th:only-of-type {\n",
       "        vertical-align: middle;\n",
       "    }\n",
       "\n",
       "    .dataframe tbody tr th {\n",
       "        vertical-align: top;\n",
       "    }\n",
       "\n",
       "    .dataframe thead th {\n",
       "        text-align: right;\n",
       "    }\n",
       "</style>\n",
       "<table border=\"1\" class=\"dataframe\">\n",
       "  <thead>\n",
       "    <tr style=\"text-align: right;\">\n",
       "      <th></th>\n",
       "      <th>Patient_id</th>\n",
       "      <th>time</th>\n",
       "      <th>HR</th>\n",
       "      <th>Age</th>\n",
       "      <th>MAP</th>\n",
       "      <th>Resp</th>\n",
       "      <th>Temp</th>\n",
       "      <th>WBC</th>\n",
       "      <th>PaCO2</th>\n",
       "      <th>SepsisLabel</th>\n",
       "    </tr>\n",
       "  </thead>\n",
       "  <tbody>\n",
       "    <tr>\n",
       "      <td>0</td>\n",
       "      <td>0</td>\n",
       "      <td>0</td>\n",
       "      <td>124.0</td>\n",
       "      <td>71.44</td>\n",
       "      <td>72.0</td>\n",
       "      <td>23.0</td>\n",
       "      <td>36.78</td>\n",
       "      <td>14.0</td>\n",
       "      <td>NaN</td>\n",
       "      <td>0</td>\n",
       "    </tr>\n",
       "    <tr>\n",
       "      <td>1</td>\n",
       "      <td>0</td>\n",
       "      <td>1</td>\n",
       "      <td>116.0</td>\n",
       "      <td>71.44</td>\n",
       "      <td>77.0</td>\n",
       "      <td>22.0</td>\n",
       "      <td>NaN</td>\n",
       "      <td>NaN</td>\n",
       "      <td>NaN</td>\n",
       "      <td>0</td>\n",
       "    </tr>\n",
       "    <tr>\n",
       "      <td>2</td>\n",
       "      <td>0</td>\n",
       "      <td>2</td>\n",
       "      <td>118.0</td>\n",
       "      <td>71.44</td>\n",
       "      <td>64.0</td>\n",
       "      <td>23.0</td>\n",
       "      <td>NaN</td>\n",
       "      <td>NaN</td>\n",
       "      <td>NaN</td>\n",
       "      <td>0</td>\n",
       "    </tr>\n",
       "    <tr>\n",
       "      <td>3</td>\n",
       "      <td>0</td>\n",
       "      <td>3</td>\n",
       "      <td>114.0</td>\n",
       "      <td>71.44</td>\n",
       "      <td>71.0</td>\n",
       "      <td>20.0</td>\n",
       "      <td>NaN</td>\n",
       "      <td>NaN</td>\n",
       "      <td>NaN</td>\n",
       "      <td>0</td>\n",
       "    </tr>\n",
       "    <tr>\n",
       "      <td>4</td>\n",
       "      <td>0</td>\n",
       "      <td>4</td>\n",
       "      <td>109.0</td>\n",
       "      <td>71.44</td>\n",
       "      <td>73.0</td>\n",
       "      <td>21.0</td>\n",
       "      <td>NaN</td>\n",
       "      <td>NaN</td>\n",
       "      <td>NaN</td>\n",
       "      <td>0</td>\n",
       "    </tr>\n",
       "  </tbody>\n",
       "</table>\n",
       "</div>"
      ],
      "text/plain": [
       "   Patient_id  time     HR    Age   MAP  Resp   Temp   WBC  PaCO2  SepsisLabel\n",
       "0           0     0  124.0  71.44  72.0  23.0  36.78  14.0    NaN            0\n",
       "1           0     1  116.0  71.44  77.0  22.0    NaN   NaN    NaN            0\n",
       "2           0     2  118.0  71.44  64.0  23.0    NaN   NaN    NaN            0\n",
       "3           0     3  114.0  71.44  71.0  20.0    NaN   NaN    NaN            0\n",
       "4           0     4  109.0  71.44  73.0  21.0    NaN   NaN    NaN            0"
      ]
     },
     "execution_count": 6,
     "metadata": {},
     "output_type": "execute_result"
    }
   ],
   "source": [
    "filter_cols = ['Patient_id', 'time', 'HR', 'Age', 'MAP', 'Resp', 'Temp', 'WBC', \n",
    "               'PaCO2', 'SepsisLabel']\n",
    "\n",
    "filter_train = train[filter_cols]\n",
    "filter_train.head()"
   ]
  },
  {
   "cell_type": "code",
   "execution_count": 7,
   "metadata": {},
   "outputs": [
    {
     "data": {
      "text/plain": [
       "30336"
      ]
     },
     "execution_count": 7,
     "metadata": {},
     "output_type": "execute_result"
    }
   ],
   "source": [
    "#Total number of patient\n",
    "len(filter_train['Patient_id'].unique())"
   ]
  },
  {
   "cell_type": "code",
   "execution_count": 8,
   "metadata": {},
   "outputs": [
    {
     "data": {
      "text/plain": [
       "2321"
      ]
     },
     "execution_count": 8,
     "metadata": {},
     "output_type": "execute_result"
    }
   ],
   "source": [
    "#total no of patient with sepsis\n",
    "grp_sepsis_rep = np.array(filter_train.groupby(['Patient_id']) \\\n",
    "                          ['SepsisLabel'].sum())\n",
    "\n",
    "len(grp_sepsis_rep[grp_sepsis_rep > 0])"
   ]
  },
  {
   "cell_type": "code",
   "execution_count": 9,
   "metadata": {},
   "outputs": [],
   "source": [
    "agg_patient_time = np.array(filter_train.groupby(['Patient_id'])['SepsisLabel']\\\n",
    "                            .count())"
   ]
  },
  {
   "cell_type": "code",
   "execution_count": 10,
   "metadata": {},
   "outputs": [
    {
     "data": {
      "text/plain": [
       "<matplotlib.axes._subplots.AxesSubplot at 0x7fe2df356150>"
      ]
     },
     "execution_count": 10,
     "metadata": {},
     "output_type": "execute_result"
    },
    {
     "data": {
      "image/png": "[encoded data removed]",
      "text/plain": [
       "<Figure size 432x288 with 1 Axes>"
      ]
     },
     "metadata": {
      "needs_background": "light"
     },
     "output_type": "display_data"
    }
   ],
   "source": [
    "sns.distplot(agg_patient_time,kde=False)"
   ]
  },
  {
   "cell_type": "code",
   "execution_count": 11,
   "metadata": {},
   "outputs": [
    {
     "data": {
      "text/plain": [
       "<matplotlib.axes._subplots.AxesSubplot at 0x7fe2df208b90>"
      ]
     },
     "execution_count": 11,
     "metadata": {},
     "output_type": "execute_result"
    },
    {
     "data": {
      "image/png": "[encoded data removed]",
      "text/plain": [
       "<Figure size 432x288 with 1 Axes>"
      ]
     },
     "metadata": {
      "needs_background": "light"
     },
     "output_type": "display_data"
    }
   ],
   "source": [
    "#We can remove those patients with more than 60 hours in the hospital. \n",
    "#These patients (more than 60 hours in hospital) are considered outliers .\n",
    "#The reason behind this is that we will be using LSTM for modeling and window of size 350 won't be a great idea.\n",
    "agg_patient_time = np.array(filter_train.groupby(['Patient_id'])['SepsisLabel']\\\n",
    "                            .count())\n",
    "agg_patient_time = agg_patient_time[agg_patient_time < 60]\n",
    "sns.distplot(agg_patient_time,kde=False)"
   ]
  },
  {
   "cell_type": "code",
   "execution_count": 12,
   "metadata": {},
   "outputs": [],
   "source": [
    "#Removing patient with 60hrs of data"
   ]
  },
  {
   "cell_type": "code",
   "execution_count": 13,
   "metadata": {},
   "outputs": [],
   "source": [
    "temp = filter_train.groupby(['Patient_id'])['SepsisLabel'].count().reset_index()"
   ]
  },
  {
   "cell_type": "code",
   "execution_count": 14,
   "metadata": {},
   "outputs": [],
   "source": [
    "sel_pid = np.array(temp[temp['SepsisLabel'] <=60]['Patient_id'])"
   ]
  },
  {
   "cell_type": "code",
   "execution_count": 15,
   "metadata": {},
   "outputs": [],
   "source": [
    "patient_filter_train = filter_train[filter_train['Patient_id'].isin(sel_pid)]"
   ]
  },
  {
   "cell_type": "code",
   "execution_count": 16,
   "metadata": {},
   "outputs": [
    {
     "data": {
      "text/plain": [
       "29409"
      ]
     },
     "execution_count": 16,
     "metadata": {},
     "output_type": "execute_result"
    }
   ],
   "source": [
    "len(patient_filter_train['Patient_id'].unique())"
   ]
  },
  {
   "cell_type": "code",
   "execution_count": 17,
   "metadata": {},
   "outputs": [
    {
     "data": {
      "text/plain": [
       "1511"
      ]
     },
     "execution_count": 17,
     "metadata": {},
     "output_type": "execute_result"
    }
   ],
   "source": [
    "#Total Number of Patients with Sepsis after filtering patients with > 60 hours\n",
    "grp_sepsis_rep = np.array(patient_filter_train.groupby(['Patient_id']) \\\n",
    "                          ['SepsisLabel'].sum())\n",
    "len(grp_sepsis_rep[grp_sepsis_rep > 0])"
   ]
  },
  {
   "cell_type": "code",
   "execution_count": 18,
   "metadata": {},
   "outputs": [
    {
     "data": {
      "text/plain": [
       "<matplotlib.axes._subplots.AxesSubplot at 0x7fe2df100610>"
      ]
     },
     "execution_count": 18,
     "metadata": {},
     "output_type": "execute_result"
    },
    {
     "data": {
      "image/png": "[encoded data removed]",
      "text/plain": [
       "<Figure size 360x360 with 1 Axes>"
      ]
     },
     "metadata": {
      "needs_background": "light"
     },
     "output_type": "display_data"
    }
   ],
   "source": [
    "#Counting the time at which patient comes in contact with the sepsis\n",
    "temp = filter_train.groupby(['Patient_id'])['SepsisLabel']\\\n",
    "       .sum().reset_index()\n",
    "sepsis_train_pid = np.array(temp[temp['SepsisLabel'] > 0]['Patient_id'])\n",
    "temp_filter = filter_train[filter_train['Patient_id']\\\n",
    "                                   .isin(sepsis_train_pid)]\n",
    "sepsis_time = []\n",
    "tot_time = []\n",
    "for pid in sepsis_train_pid:\n",
    "  df = temp_filter[temp_filter['Patient_id']==pid]\n",
    "  sepsis_time.append(df[df['SepsisLabel']==1]['time'].iloc[0])\n",
    "  tot_time.append(df[df['SepsisLabel']==1]['time'][::-1].iloc[0])\n",
    "pylab.rcParams['figure.figsize'] = 5, 5\n",
    "sns.distplot(sepsis_time, kde=False)"
   ]
  },
  {
   "cell_type": "code",
   "execution_count": 19,
   "metadata": {},
   "outputs": [
    {
     "data": {
      "image/png": "[encoded data removed]",
      "text/plain": [
       "<Figure size 1440x360 with 1 Axes>"
      ]
     },
     "metadata": {
      "needs_background": "light"
     },
     "output_type": "display_data"
    }
   ],
   "source": [
    "temp = pd.DataFrame()\n",
    "temp['pid'] = sepsis_train_pid\n",
    "temp['sepsis_time'] = sepsis_time\n",
    "temp['tot_time'] = tot_time\n",
    "temp.sort_values(by=['sepsis_time'], inplace=True)\n",
    "temp['level'] = temp.reset_index().index\n",
    "pylab.rcParams['figure.figsize'] = 20, 5\n",
    "plt.plot(temp['level'], temp['sepsis_time'])\n",
    "plt.plot(temp['level'], temp['tot_time'])\n",
    "_ = plt.xlabel('Patient_id')\n",
    "_ = plt.legend(['sepsis_time', 'total_time'])"
   ]
  },
  {
   "cell_type": "code",
   "execution_count": 20,
   "metadata": {},
   "outputs": [],
   "source": [
    "pids = np.array(filter_train['Patient_id'].unique())\n",
    "missing_dict = {}\n",
    "pid_missing_dict = {}\n",
    "for col in ['HR','MAP', 'Resp', 'Temp','WBC', 'PaCO2']:\n",
    "  missing_dict[col] = []\n",
    "  pid_missing_dict[col] = []\n",
    "  for pid in pids:\n",
    "    temp = filter_train[filter_train['Patient_id'] == pid]\n",
    "    missing = (temp[col].isnull().sum() / temp.shape[0]) * 100\n",
    "    missing_dict[col].append(missing)\n",
    "    if missing > 99:\n",
    "      pid_missing_dict[col].append(pid)"
   ]
  },
  {
   "cell_type": "code",
   "execution_count": 21,
   "metadata": {},
   "outputs": [
    {
     "data": {
      "image/png": "[encoded data removed]",
      "text/plain": [
       "<Figure size 360x360 with 1 Axes>"
      ]
     },
     "metadata": {
      "needs_background": "light"
     },
     "output_type": "display_data"
    },
    {
     "data": {
      "image/png": "[encoded data removed]",
      "text/plain": [
       "<Figure size 360x360 with 1 Axes>"
      ]
     },
     "metadata": {
      "needs_background": "light"
     },
     "output_type": "display_data"
    },
    {
     "data": {
      "image/png": "[encoded data removed]",
      "text/plain": [
       "<Figure size 360x360 with 1 Axes>"
      ]
     },
     "metadata": {
      "needs_background": "light"
     },
     "output_type": "display_data"
    },
    {
     "data": {
      "image/png": "[encoded data removed]",
      "text/plain": [
       "<Figure size 360x360 with 1 Axes>"
      ]
     },
     "metadata": {
      "needs_background": "light"
     },
     "output_type": "display_data"
    },
    {
     "data": {
      "image/png": "[encoded data removed]",
      "text/plain": [
       "<Figure size 360x360 with 1 Axes>"
      ]
     },
     "metadata": {
      "needs_background": "light"
     },
     "output_type": "display_data"
    },
    {
     "data": {
      "image/png": "[encoded data removed]",
      "text/plain": [
       "<Figure size 360x360 with 1 Axes>"
      ]
     },
     "metadata": {
      "needs_background": "light"
     },
     "output_type": "display_data"
    }
   ],
   "source": [
    "pylab.rcParams['figure.figsize'] = 5, 5\n",
    "for i,col in enumerate(missing_dict.keys()):\n",
    "  plt.figure(i)\n",
    "  plt.axvline(99, 0,90, color='r')\n",
    "\n",
    "  plt.title(\"Missing percentage of \" + str(col))\n",
    "  sns.distplot(missing_dict[col], kde=False);"
   ]
  },
  {
   "cell_type": "code",
   "execution_count": 22,
   "metadata": {},
   "outputs": [],
   "source": [
    "#Number of Patients with 100 % missing data for Columns"
   ]
  },
  {
   "cell_type": "code",
   "execution_count": 23,
   "metadata": {},
   "outputs": [
    {
     "data": {
      "text/plain": [
       "0.0065928270042194086"
      ]
     },
     "execution_count": 23,
     "metadata": {},
     "output_type": "execute_result"
    }
   ],
   "source": [
    "#HeartRate\n",
    "arr = np.array(missing_dict['HR'])\n",
    "\n",
    "(len(arr[arr >99]) / 30336) * 100"
   ]
  },
  {
   "cell_type": "code",
   "execution_count": 24,
   "metadata": {},
   "outputs": [
    {
     "data": {
      "text/plain": [
       "0.17141350210970466"
      ]
     },
     "execution_count": 24,
     "metadata": {},
     "output_type": "execute_result"
    }
   ],
   "source": [
    "#map\n",
    "arr = np.array(missing_dict['MAP'])\n",
    "\n",
    "(len(arr[arr >99]) / 30336) * 100"
   ]
  },
  {
   "cell_type": "code",
   "execution_count": 25,
   "metadata": {},
   "outputs": [
    {
     "data": {
      "text/plain": [
       "0.16811708860759494"
      ]
     },
     "execution_count": 25,
     "metadata": {},
     "output_type": "execute_result"
    }
   ],
   "source": [
    "#Resp\n",
    "arr = np.array(missing_dict['Resp'])\n",
    "\n",
    "(len(arr[arr >99]) / 30336) * 100"
   ]
  },
  {
   "cell_type": "code",
   "execution_count": 26,
   "metadata": {},
   "outputs": [
    {
     "data": {
      "text/plain": [
       "0.8471782700421941"
      ]
     },
     "execution_count": 26,
     "metadata": {},
     "output_type": "execute_result"
    }
   ],
   "source": [
    "#Temp\n",
    "arr = np.array(missing_dict['Temp'])\n",
    "\n",
    "(len(arr[arr >99]) / 30336) * 100"
   ]
  },
  {
   "cell_type": "code",
   "execution_count": 27,
   "metadata": {},
   "outputs": [
    {
     "data": {
      "text/plain": [
       "5.330300632911392"
      ]
     },
     "execution_count": 27,
     "metadata": {},
     "output_type": "execute_result"
    }
   ],
   "source": [
    "#WBC\n",
    "arr = np.array(missing_dict['WBC'])\n",
    "\n",
    "(len(arr[arr >99]) / 30336) * 100"
   ]
  },
  {
   "cell_type": "code",
   "execution_count": 28,
   "metadata": {},
   "outputs": [
    {
     "data": {
      "text/plain": [
       "49.22534282700422"
      ]
     },
     "execution_count": 28,
     "metadata": {},
     "output_type": "execute_result"
    }
   ],
   "source": [
    "#PACO2\n",
    "arr = np.array(missing_dict['PaCO2'])\n",
    "\n",
    "(len(arr[arr >99]) / 30336) * 100"
   ]
  },
  {
   "cell_type": "code",
   "execution_count": 29,
   "metadata": {},
   "outputs": [
    {
     "data": {
      "text/plain": [
       "1901"
      ]
     },
     "execution_count": 29,
     "metadata": {},
     "output_type": "execute_result"
    }
   ],
   "source": [
    "#Total Number of Patients with 100% NA in atleast one of the column\n",
    "len(set.union(set(pid_missing_dict['HR']), set(pid_missing_dict['MAP']), \n",
    "          set(pid_missing_dict['Resp']), set(pid_missing_dict['Temp']), \n",
    "          set(pid_missing_dict['WBC'])))"
   ]
  },
  {
   "cell_type": "code",
   "execution_count": 30,
   "metadata": {},
   "outputs": [],
   "source": [
    "#Total Number of Patients with sepsis and 100% NA in atleast one of the columns\n",
    "na_pid_union = set.union(set(pid_missing_dict['HR']), set(pid_missing_dict['MAP']), \n",
    "          set(pid_missing_dict['Resp']), set(pid_missing_dict['Temp']), \n",
    "          set(pid_missing_dict['WBC']))"
   ]
  },
  {
   "cell_type": "code",
   "execution_count": 31,
   "metadata": {},
   "outputs": [
    {
     "data": {
      "text/plain": [
       "219"
      ]
     },
     "execution_count": 31,
     "metadata": {},
     "output_type": "execute_result"
    }
   ],
   "source": [
    "len(na_pid_union & set(sepsis_train_pid))"
   ]
  },
  {
   "cell_type": "code",
   "execution_count": 32,
   "metadata": {},
   "outputs": [],
   "source": [
    "train[~train['Patient_id'].isin(na_pid_union)].to_csv('updated_train.csv', index=False)"
   ]
  },
  {
   "cell_type": "code",
   "execution_count": 33,
   "metadata": {},
   "outputs": [],
   "source": [
    "train_copy = train.groupby('Patient_id').mean().fillna(train.mean())"
   ]
  },
  {
   "cell_type": "code",
   "execution_count": 34,
   "metadata": {},
   "outputs": [
    {
     "data": {
      "text/html": [
       "<div>\n",
       "<style scoped>\n",
       "    .dataframe tbody tr th:only-of-type {\n",
       "        vertical-align: middle;\n",
       "    }\n",
       "\n",
       "    .dataframe tbody tr th {\n",
       "        vertical-align: top;\n",
       "    }\n",
       "\n",
       "    .dataframe thead th {\n",
       "        text-align: right;\n",
       "    }\n",
       "</style>\n",
       "<table border=\"1\" class=\"dataframe\">\n",
       "  <thead>\n",
       "    <tr style=\"text-align: right;\">\n",
       "      <th></th>\n",
       "      <th>HR</th>\n",
       "      <th>O2Sat</th>\n",
       "      <th>Temp</th>\n",
       "      <th>SBP</th>\n",
       "      <th>MAP</th>\n",
       "      <th>DBP</th>\n",
       "      <th>Resp</th>\n",
       "      <th>EtCO2</th>\n",
       "      <th>BaseExcess</th>\n",
       "      <th>HCO3</th>\n",
       "      <th>...</th>\n",
       "      <th>Fibrinogen</th>\n",
       "      <th>Platelets</th>\n",
       "      <th>Age</th>\n",
       "      <th>Gender</th>\n",
       "      <th>Unit1</th>\n",
       "      <th>Unit2</th>\n",
       "      <th>HospAdmTime</th>\n",
       "      <th>ICULOS</th>\n",
       "      <th>SepsisLabel</th>\n",
       "      <th>time</th>\n",
       "    </tr>\n",
       "    <tr>\n",
       "      <th>Patient_id</th>\n",
       "      <th></th>\n",
       "      <th></th>\n",
       "      <th></th>\n",
       "      <th></th>\n",
       "      <th></th>\n",
       "      <th></th>\n",
       "      <th></th>\n",
       "      <th></th>\n",
       "      <th></th>\n",
       "      <th></th>\n",
       "      <th></th>\n",
       "      <th></th>\n",
       "      <th></th>\n",
       "      <th></th>\n",
       "      <th></th>\n",
       "      <th></th>\n",
       "      <th></th>\n",
       "      <th></th>\n",
       "      <th></th>\n",
       "      <th></th>\n",
       "      <th></th>\n",
       "    </tr>\n",
       "  </thead>\n",
       "  <tbody>\n",
       "    <tr>\n",
       "      <td>0</td>\n",
       "      <td>108.072727</td>\n",
       "      <td>96.672727</td>\n",
       "      <td>36.588947</td>\n",
       "      <td>127.418182</td>\n",
       "      <td>80.490727</td>\n",
       "      <td>59.836364</td>\n",
       "      <td>21.809091</td>\n",
       "      <td>33.076474</td>\n",
       "      <td>-1.800000</td>\n",
       "      <td>18.666667</td>\n",
       "      <td>...</td>\n",
       "      <td>290.176375</td>\n",
       "      <td>237.50</td>\n",
       "      <td>71.44</td>\n",
       "      <td>1.0</td>\n",
       "      <td>1.000000</td>\n",
       "      <td>0.000000</td>\n",
       "      <td>-0.02</td>\n",
       "      <td>31.0</td>\n",
       "      <td>0.000000</td>\n",
       "      <td>28.0</td>\n",
       "    </tr>\n",
       "    <tr>\n",
       "      <td>1</td>\n",
       "      <td>78.583333</td>\n",
       "      <td>96.166667</td>\n",
       "      <td>37.186667</td>\n",
       "      <td>116.916667</td>\n",
       "      <td>79.666667</td>\n",
       "      <td>62.743065</td>\n",
       "      <td>16.250000</td>\n",
       "      <td>33.076474</td>\n",
       "      <td>-0.669369</td>\n",
       "      <td>26.000000</td>\n",
       "      <td>...</td>\n",
       "      <td>290.176375</td>\n",
       "      <td>191.00</td>\n",
       "      <td>59.05</td>\n",
       "      <td>0.0</td>\n",
       "      <td>0.501491</td>\n",
       "      <td>0.498509</td>\n",
       "      <td>-66.26</td>\n",
       "      <td>10.0</td>\n",
       "      <td>0.000000</td>\n",
       "      <td>9.0</td>\n",
       "    </tr>\n",
       "    <tr>\n",
       "      <td>2</td>\n",
       "      <td>67.714286</td>\n",
       "      <td>97.437500</td>\n",
       "      <td>36.540000</td>\n",
       "      <td>132.037037</td>\n",
       "      <td>72.802593</td>\n",
       "      <td>62.743065</td>\n",
       "      <td>15.764706</td>\n",
       "      <td>33.076474</td>\n",
       "      <td>-0.669369</td>\n",
       "      <td>27.000000</td>\n",
       "      <td>...</td>\n",
       "      <td>290.176375</td>\n",
       "      <td>170.00</td>\n",
       "      <td>70.19</td>\n",
       "      <td>0.0</td>\n",
       "      <td>1.000000</td>\n",
       "      <td>0.000000</td>\n",
       "      <td>-7.89</td>\n",
       "      <td>19.5</td>\n",
       "      <td>0.000000</td>\n",
       "      <td>18.5</td>\n",
       "    </tr>\n",
       "    <tr>\n",
       "      <td>3</td>\n",
       "      <td>92.716418</td>\n",
       "      <td>93.828358</td>\n",
       "      <td>37.673500</td>\n",
       "      <td>111.865672</td>\n",
       "      <td>81.544776</td>\n",
       "      <td>67.880597</td>\n",
       "      <td>23.514925</td>\n",
       "      <td>33.076474</td>\n",
       "      <td>-0.769231</td>\n",
       "      <td>23.000000</td>\n",
       "      <td>...</td>\n",
       "      <td>290.176375</td>\n",
       "      <td>109.00</td>\n",
       "      <td>66.42</td>\n",
       "      <td>1.0</td>\n",
       "      <td>0.000000</td>\n",
       "      <td>1.000000</td>\n",
       "      <td>-14.44</td>\n",
       "      <td>36.0</td>\n",
       "      <td>0.134328</td>\n",
       "      <td>33.0</td>\n",
       "    </tr>\n",
       "    <tr>\n",
       "      <td>4</td>\n",
       "      <td>85.170000</td>\n",
       "      <td>94.310000</td>\n",
       "      <td>36.878000</td>\n",
       "      <td>105.500000</td>\n",
       "      <td>73.255102</td>\n",
       "      <td>54.222222</td>\n",
       "      <td>19.420000</td>\n",
       "      <td>33.076474</td>\n",
       "      <td>-0.375000</td>\n",
       "      <td>25.750000</td>\n",
       "      <td>...</td>\n",
       "      <td>290.176375</td>\n",
       "      <td>125.25</td>\n",
       "      <td>55.46</td>\n",
       "      <td>1.0</td>\n",
       "      <td>0.000000</td>\n",
       "      <td>1.000000</td>\n",
       "      <td>-0.02</td>\n",
       "      <td>31.5</td>\n",
       "      <td>0.000000</td>\n",
       "      <td>24.5</td>\n",
       "    </tr>\n",
       "  </tbody>\n",
       "</table>\n",
       "<p>5 rows × 42 columns</p>\n",
       "</div>"
      ],
      "text/plain": [
       "                    HR      O2Sat       Temp         SBP        MAP  \\\n",
       "Patient_id                                                            \n",
       "0           108.072727  96.672727  36.588947  127.418182  80.490727   \n",
       "1            78.583333  96.166667  37.186667  116.916667  79.666667   \n",
       "2            67.714286  97.437500  36.540000  132.037037  72.802593   \n",
       "3            92.716418  93.828358  37.673500  111.865672  81.544776   \n",
       "4            85.170000  94.310000  36.878000  105.500000  73.255102   \n",
       "\n",
       "                  DBP       Resp      EtCO2  BaseExcess       HCO3  ...  \\\n",
       "Patient_id                                                          ...   \n",
       "0           59.836364  21.809091  33.076474   -1.800000  18.666667  ...   \n",
       "1           62.743065  16.250000  33.076474   -0.669369  26.000000  ...   \n",
       "2           62.743065  15.764706  33.076474   -0.669369  27.000000  ...   \n",
       "3           67.880597  23.514925  33.076474   -0.769231  23.000000  ...   \n",
       "4           54.222222  19.420000  33.076474   -0.375000  25.750000  ...   \n",
       "\n",
       "            Fibrinogen  Platelets    Age  Gender     Unit1     Unit2  \\\n",
       "Patient_id                                                             \n",
       "0           290.176375     237.50  71.44     1.0  1.000000  0.000000   \n",
       "1           290.176375     191.00  59.05     0.0  0.501491  0.498509   \n",
       "2           290.176375     170.00  70.19     0.0  1.000000  0.000000   \n",
       "3           290.176375     109.00  66.42     1.0  0.000000  1.000000   \n",
       "4           290.176375     125.25  55.46     1.0  0.000000  1.000000   \n",
       "\n",
       "            HospAdmTime  ICULOS  SepsisLabel  time  \n",
       "Patient_id                                          \n",
       "0                 -0.02    31.0     0.000000  28.0  \n",
       "1                -66.26    10.0     0.000000   9.0  \n",
       "2                 -7.89    19.5     0.000000  18.5  \n",
       "3                -14.44    36.0     0.134328  33.0  \n",
       "4                 -0.02    31.5     0.000000  24.5  \n",
       "\n",
       "[5 rows x 42 columns]"
      ]
     },
     "execution_count": 34,
     "metadata": {},
     "output_type": "execute_result"
    }
   ],
   "source": [
    "train_copy.head()"
   ]
  },
  {
   "cell_type": "code",
   "execution_count": 35,
   "metadata": {},
   "outputs": [],
   "source": [
    "#Converting sepsisLabel value more than 0 to 1 \n",
    "train_copy['SepsisLabel'][train_copy['SepsisLabel']!=0] = 1"
   ]
  },
  {
   "cell_type": "code",
   "execution_count": 36,
   "metadata": {},
   "outputs": [],
   "source": [
    "x = train_copy.drop(['SepsisLabel'],axis = 1)"
   ]
  },
  {
   "cell_type": "code",
   "execution_count": 37,
   "metadata": {},
   "outputs": [],
   "source": [
    "y = train_copy['SepsisLabel']"
   ]
  },
  {
   "cell_type": "code",
   "execution_count": 38,
   "metadata": {},
   "outputs": [],
   "source": [
    "#All about test set"
   ]
  },
  {
   "cell_type": "code",
   "execution_count": 39,
   "metadata": {},
   "outputs": [],
   "source": [
    "test = pd.read_csv('test_patient.csv')"
   ]
  },
  {
   "cell_type": "code",
   "execution_count": 40,
   "metadata": {},
   "outputs": [
    {
     "data": {
      "text/html": [
       "<div>\n",
       "<style scoped>\n",
       "    .dataframe tbody tr th:only-of-type {\n",
       "        vertical-align: middle;\n",
       "    }\n",
       "\n",
       "    .dataframe tbody tr th {\n",
       "        vertical-align: top;\n",
       "    }\n",
       "\n",
       "    .dataframe thead th {\n",
       "        text-align: right;\n",
       "    }\n",
       "</style>\n",
       "<table border=\"1\" class=\"dataframe\">\n",
       "  <thead>\n",
       "    <tr style=\"text-align: right;\">\n",
       "      <th></th>\n",
       "      <th>HR</th>\n",
       "      <th>O2Sat</th>\n",
       "      <th>Temp</th>\n",
       "      <th>SBP</th>\n",
       "      <th>MAP</th>\n",
       "      <th>DBP</th>\n",
       "      <th>Resp</th>\n",
       "      <th>EtCO2</th>\n",
       "      <th>BaseExcess</th>\n",
       "      <th>HCO3</th>\n",
       "      <th>...</th>\n",
       "      <th>Platelets</th>\n",
       "      <th>Age</th>\n",
       "      <th>Gender</th>\n",
       "      <th>Unit1</th>\n",
       "      <th>Unit2</th>\n",
       "      <th>HospAdmTime</th>\n",
       "      <th>ICULOS</th>\n",
       "      <th>SepsisLabel</th>\n",
       "      <th>Patient_id</th>\n",
       "      <th>time</th>\n",
       "    </tr>\n",
       "  </thead>\n",
       "  <tbody>\n",
       "    <tr>\n",
       "      <td>0</td>\n",
       "      <td>NaN</td>\n",
       "      <td>NaN</td>\n",
       "      <td>NaN</td>\n",
       "      <td>NaN</td>\n",
       "      <td>NaN</td>\n",
       "      <td>NaN</td>\n",
       "      <td>NaN</td>\n",
       "      <td>NaN</td>\n",
       "      <td>NaN</td>\n",
       "      <td>NaN</td>\n",
       "      <td>...</td>\n",
       "      <td>NaN</td>\n",
       "      <td>24</td>\n",
       "      <td>0</td>\n",
       "      <td>1.0</td>\n",
       "      <td>0.0</td>\n",
       "      <td>-5.45</td>\n",
       "      <td>1</td>\n",
       "      <td>0</td>\n",
       "      <td>15000</td>\n",
       "      <td>0</td>\n",
       "    </tr>\n",
       "    <tr>\n",
       "      <td>1</td>\n",
       "      <td>76.0</td>\n",
       "      <td>100.0</td>\n",
       "      <td>NaN</td>\n",
       "      <td>201.0</td>\n",
       "      <td>145.0</td>\n",
       "      <td>108.0</td>\n",
       "      <td>20.0</td>\n",
       "      <td>NaN</td>\n",
       "      <td>NaN</td>\n",
       "      <td>NaN</td>\n",
       "      <td>...</td>\n",
       "      <td>NaN</td>\n",
       "      <td>24</td>\n",
       "      <td>0</td>\n",
       "      <td>1.0</td>\n",
       "      <td>0.0</td>\n",
       "      <td>-5.45</td>\n",
       "      <td>2</td>\n",
       "      <td>0</td>\n",
       "      <td>15000</td>\n",
       "      <td>1</td>\n",
       "    </tr>\n",
       "    <tr>\n",
       "      <td>2</td>\n",
       "      <td>77.0</td>\n",
       "      <td>100.0</td>\n",
       "      <td>36.4</td>\n",
       "      <td>220.0</td>\n",
       "      <td>155.0</td>\n",
       "      <td>110.0</td>\n",
       "      <td>22.0</td>\n",
       "      <td>NaN</td>\n",
       "      <td>NaN</td>\n",
       "      <td>NaN</td>\n",
       "      <td>...</td>\n",
       "      <td>NaN</td>\n",
       "      <td>24</td>\n",
       "      <td>0</td>\n",
       "      <td>1.0</td>\n",
       "      <td>0.0</td>\n",
       "      <td>-5.45</td>\n",
       "      <td>3</td>\n",
       "      <td>0</td>\n",
       "      <td>15000</td>\n",
       "      <td>2</td>\n",
       "    </tr>\n",
       "    <tr>\n",
       "      <td>3</td>\n",
       "      <td>85.0</td>\n",
       "      <td>100.0</td>\n",
       "      <td>NaN</td>\n",
       "      <td>196.0</td>\n",
       "      <td>147.0</td>\n",
       "      <td>110.0</td>\n",
       "      <td>20.0</td>\n",
       "      <td>NaN</td>\n",
       "      <td>NaN</td>\n",
       "      <td>NaN</td>\n",
       "      <td>...</td>\n",
       "      <td>145.0</td>\n",
       "      <td>24</td>\n",
       "      <td>0</td>\n",
       "      <td>1.0</td>\n",
       "      <td>0.0</td>\n",
       "      <td>-5.45</td>\n",
       "      <td>4</td>\n",
       "      <td>0</td>\n",
       "      <td>15000</td>\n",
       "      <td>3</td>\n",
       "    </tr>\n",
       "    <tr>\n",
       "      <td>4</td>\n",
       "      <td>87.0</td>\n",
       "      <td>NaN</td>\n",
       "      <td>35.9</td>\n",
       "      <td>201.0</td>\n",
       "      <td>154.0</td>\n",
       "      <td>116.0</td>\n",
       "      <td>20.0</td>\n",
       "      <td>NaN</td>\n",
       "      <td>NaN</td>\n",
       "      <td>NaN</td>\n",
       "      <td>...</td>\n",
       "      <td>NaN</td>\n",
       "      <td>24</td>\n",
       "      <td>0</td>\n",
       "      <td>1.0</td>\n",
       "      <td>0.0</td>\n",
       "      <td>-5.45</td>\n",
       "      <td>5</td>\n",
       "      <td>0</td>\n",
       "      <td>15000</td>\n",
       "      <td>4</td>\n",
       "    </tr>\n",
       "  </tbody>\n",
       "</table>\n",
       "<p>5 rows × 43 columns</p>\n",
       "</div>"
      ],
      "text/plain": [
       "     HR  O2Sat  Temp    SBP    MAP    DBP  Resp  EtCO2  BaseExcess  HCO3  ...  \\\n",
       "0   NaN    NaN   NaN    NaN    NaN    NaN   NaN    NaN         NaN   NaN  ...   \n",
       "1  76.0  100.0   NaN  201.0  145.0  108.0  20.0    NaN         NaN   NaN  ...   \n",
       "2  77.0  100.0  36.4  220.0  155.0  110.0  22.0    NaN         NaN   NaN  ...   \n",
       "3  85.0  100.0   NaN  196.0  147.0  110.0  20.0    NaN         NaN   NaN  ...   \n",
       "4  87.0    NaN  35.9  201.0  154.0  116.0  20.0    NaN         NaN   NaN  ...   \n",
       "\n",
       "   Platelets  Age  Gender  Unit1  Unit2  HospAdmTime  ICULOS  SepsisLabel  \\\n",
       "0        NaN   24       0    1.0    0.0        -5.45       1            0   \n",
       "1        NaN   24       0    1.0    0.0        -5.45       2            0   \n",
       "2        NaN   24       0    1.0    0.0        -5.45       3            0   \n",
       "3      145.0   24       0    1.0    0.0        -5.45       4            0   \n",
       "4        NaN   24       0    1.0    0.0        -5.45       5            0   \n",
       "\n",
       "   Patient_id  time  \n",
       "0       15000     0  \n",
       "1       15000     1  \n",
       "2       15000     2  \n",
       "3       15000     3  \n",
       "4       15000     4  \n",
       "\n",
       "[5 rows x 43 columns]"
      ]
     },
     "execution_count": 40,
     "metadata": {},
     "output_type": "execute_result"
    }
   ],
   "source": [
    "test.head()"
   ]
  },
  {
   "cell_type": "code",
   "execution_count": 41,
   "metadata": {},
   "outputs": [],
   "source": [
    "test_copy = test.fillna(train.mean())"
   ]
  },
  {
   "cell_type": "code",
   "execution_count": 42,
   "metadata": {},
   "outputs": [
    {
     "data": {
      "text/html": [
       "<div>\n",
       "<style scoped>\n",
       "    .dataframe tbody tr th:only-of-type {\n",
       "        vertical-align: middle;\n",
       "    }\n",
       "\n",
       "    .dataframe tbody tr th {\n",
       "        vertical-align: top;\n",
       "    }\n",
       "\n",
       "    .dataframe thead th {\n",
       "        text-align: right;\n",
       "    }\n",
       "</style>\n",
       "<table border=\"1\" class=\"dataframe\">\n",
       "  <thead>\n",
       "    <tr style=\"text-align: right;\">\n",
       "      <th></th>\n",
       "      <th>HR</th>\n",
       "      <th>O2Sat</th>\n",
       "      <th>Temp</th>\n",
       "      <th>SBP</th>\n",
       "      <th>MAP</th>\n",
       "      <th>DBP</th>\n",
       "      <th>Resp</th>\n",
       "      <th>EtCO2</th>\n",
       "      <th>BaseExcess</th>\n",
       "      <th>HCO3</th>\n",
       "      <th>...</th>\n",
       "      <th>Platelets</th>\n",
       "      <th>Age</th>\n",
       "      <th>Gender</th>\n",
       "      <th>Unit1</th>\n",
       "      <th>Unit2</th>\n",
       "      <th>HospAdmTime</th>\n",
       "      <th>ICULOS</th>\n",
       "      <th>SepsisLabel</th>\n",
       "      <th>Patient_id</th>\n",
       "      <th>time</th>\n",
       "    </tr>\n",
       "  </thead>\n",
       "  <tbody>\n",
       "    <tr>\n",
       "      <td>0</td>\n",
       "      <td>84.67723</td>\n",
       "      <td>97.215386</td>\n",
       "      <td>36.992492</td>\n",
       "      <td>122.748613</td>\n",
       "      <td>81.127775</td>\n",
       "      <td>62.743065</td>\n",
       "      <td>18.735646</td>\n",
       "      <td>33.076474</td>\n",
       "      <td>-0.669369</td>\n",
       "      <td>24.084047</td>\n",
       "      <td>...</td>\n",
       "      <td>197.387781</td>\n",
       "      <td>24</td>\n",
       "      <td>0</td>\n",
       "      <td>1.0</td>\n",
       "      <td>0.0</td>\n",
       "      <td>-5.45</td>\n",
       "      <td>1</td>\n",
       "      <td>0</td>\n",
       "      <td>15000</td>\n",
       "      <td>0</td>\n",
       "    </tr>\n",
       "    <tr>\n",
       "      <td>1</td>\n",
       "      <td>76.00000</td>\n",
       "      <td>100.000000</td>\n",
       "      <td>36.992492</td>\n",
       "      <td>201.000000</td>\n",
       "      <td>145.000000</td>\n",
       "      <td>108.000000</td>\n",
       "      <td>20.000000</td>\n",
       "      <td>33.076474</td>\n",
       "      <td>-0.669369</td>\n",
       "      <td>24.084047</td>\n",
       "      <td>...</td>\n",
       "      <td>197.387781</td>\n",
       "      <td>24</td>\n",
       "      <td>0</td>\n",
       "      <td>1.0</td>\n",
       "      <td>0.0</td>\n",
       "      <td>-5.45</td>\n",
       "      <td>2</td>\n",
       "      <td>0</td>\n",
       "      <td>15000</td>\n",
       "      <td>1</td>\n",
       "    </tr>\n",
       "    <tr>\n",
       "      <td>2</td>\n",
       "      <td>77.00000</td>\n",
       "      <td>100.000000</td>\n",
       "      <td>36.400000</td>\n",
       "      <td>220.000000</td>\n",
       "      <td>155.000000</td>\n",
       "      <td>110.000000</td>\n",
       "      <td>22.000000</td>\n",
       "      <td>33.076474</td>\n",
       "      <td>-0.669369</td>\n",
       "      <td>24.084047</td>\n",
       "      <td>...</td>\n",
       "      <td>197.387781</td>\n",
       "      <td>24</td>\n",
       "      <td>0</td>\n",
       "      <td>1.0</td>\n",
       "      <td>0.0</td>\n",
       "      <td>-5.45</td>\n",
       "      <td>3</td>\n",
       "      <td>0</td>\n",
       "      <td>15000</td>\n",
       "      <td>2</td>\n",
       "    </tr>\n",
       "    <tr>\n",
       "      <td>3</td>\n",
       "      <td>85.00000</td>\n",
       "      <td>100.000000</td>\n",
       "      <td>36.992492</td>\n",
       "      <td>196.000000</td>\n",
       "      <td>147.000000</td>\n",
       "      <td>110.000000</td>\n",
       "      <td>20.000000</td>\n",
       "      <td>33.076474</td>\n",
       "      <td>-0.669369</td>\n",
       "      <td>24.084047</td>\n",
       "      <td>...</td>\n",
       "      <td>145.000000</td>\n",
       "      <td>24</td>\n",
       "      <td>0</td>\n",
       "      <td>1.0</td>\n",
       "      <td>0.0</td>\n",
       "      <td>-5.45</td>\n",
       "      <td>4</td>\n",
       "      <td>0</td>\n",
       "      <td>15000</td>\n",
       "      <td>3</td>\n",
       "    </tr>\n",
       "    <tr>\n",
       "      <td>4</td>\n",
       "      <td>87.00000</td>\n",
       "      <td>97.215386</td>\n",
       "      <td>35.900000</td>\n",
       "      <td>201.000000</td>\n",
       "      <td>154.000000</td>\n",
       "      <td>116.000000</td>\n",
       "      <td>20.000000</td>\n",
       "      <td>33.076474</td>\n",
       "      <td>-0.669369</td>\n",
       "      <td>24.084047</td>\n",
       "      <td>...</td>\n",
       "      <td>197.387781</td>\n",
       "      <td>24</td>\n",
       "      <td>0</td>\n",
       "      <td>1.0</td>\n",
       "      <td>0.0</td>\n",
       "      <td>-5.45</td>\n",
       "      <td>5</td>\n",
       "      <td>0</td>\n",
       "      <td>15000</td>\n",
       "      <td>4</td>\n",
       "    </tr>\n",
       "  </tbody>\n",
       "</table>\n",
       "<p>5 rows × 43 columns</p>\n",
       "</div>"
      ],
      "text/plain": [
       "         HR       O2Sat       Temp         SBP         MAP         DBP  \\\n",
       "0  84.67723   97.215386  36.992492  122.748613   81.127775   62.743065   \n",
       "1  76.00000  100.000000  36.992492  201.000000  145.000000  108.000000   \n",
       "2  77.00000  100.000000  36.400000  220.000000  155.000000  110.000000   \n",
       "3  85.00000  100.000000  36.992492  196.000000  147.000000  110.000000   \n",
       "4  87.00000   97.215386  35.900000  201.000000  154.000000  116.000000   \n",
       "\n",
       "        Resp      EtCO2  BaseExcess       HCO3  ...   Platelets  Age  Gender  \\\n",
       "0  18.735646  33.076474   -0.669369  24.084047  ...  197.387781   24       0   \n",
       "1  20.000000  33.076474   -0.669369  24.084047  ...  197.387781   24       0   \n",
       "2  22.000000  33.076474   -0.669369  24.084047  ...  197.387781   24       0   \n",
       "3  20.000000  33.076474   -0.669369  24.084047  ...  145.000000   24       0   \n",
       "4  20.000000  33.076474   -0.669369  24.084047  ...  197.387781   24       0   \n",
       "\n",
       "   Unit1  Unit2  HospAdmTime  ICULOS  SepsisLabel  Patient_id  time  \n",
       "0    1.0    0.0        -5.45       1            0       15000     0  \n",
       "1    1.0    0.0        -5.45       2            0       15000     1  \n",
       "2    1.0    0.0        -5.45       3            0       15000     2  \n",
       "3    1.0    0.0        -5.45       4            0       15000     3  \n",
       "4    1.0    0.0        -5.45       5            0       15000     4  \n",
       "\n",
       "[5 rows x 43 columns]"
      ]
     },
     "execution_count": 42,
     "metadata": {},
     "output_type": "execute_result"
    }
   ],
   "source": [
    "test_copy.head()"
   ]
  },
  {
   "cell_type": "code",
   "execution_count": 43,
   "metadata": {},
   "outputs": [],
   "source": [
    "x_test = test_copy.drop(['SepsisLabel','Patient_id'],axis = 1)"
   ]
  },
  {
   "cell_type": "code",
   "execution_count": 44,
   "metadata": {},
   "outputs": [
    {
     "data": {
      "text/html": [
       "<div>\n",
       "<style scoped>\n",
       "    .dataframe tbody tr th:only-of-type {\n",
       "        vertical-align: middle;\n",
       "    }\n",
       "\n",
       "    .dataframe tbody tr th {\n",
       "        vertical-align: top;\n",
       "    }\n",
       "\n",
       "    .dataframe thead th {\n",
       "        text-align: right;\n",
       "    }\n",
       "</style>\n",
       "<table border=\"1\" class=\"dataframe\">\n",
       "  <thead>\n",
       "    <tr style=\"text-align: right;\">\n",
       "      <th></th>\n",
       "      <th>HR</th>\n",
       "      <th>O2Sat</th>\n",
       "      <th>Temp</th>\n",
       "      <th>SBP</th>\n",
       "      <th>MAP</th>\n",
       "      <th>DBP</th>\n",
       "      <th>Resp</th>\n",
       "      <th>EtCO2</th>\n",
       "      <th>BaseExcess</th>\n",
       "      <th>HCO3</th>\n",
       "      <th>...</th>\n",
       "      <th>WBC</th>\n",
       "      <th>Fibrinogen</th>\n",
       "      <th>Platelets</th>\n",
       "      <th>Age</th>\n",
       "      <th>Gender</th>\n",
       "      <th>Unit1</th>\n",
       "      <th>Unit2</th>\n",
       "      <th>HospAdmTime</th>\n",
       "      <th>ICULOS</th>\n",
       "      <th>time</th>\n",
       "    </tr>\n",
       "  </thead>\n",
       "  <tbody>\n",
       "    <tr>\n",
       "      <td>0</td>\n",
       "      <td>84.67723</td>\n",
       "      <td>97.215386</td>\n",
       "      <td>36.992492</td>\n",
       "      <td>122.748613</td>\n",
       "      <td>81.127775</td>\n",
       "      <td>62.743065</td>\n",
       "      <td>18.735646</td>\n",
       "      <td>33.076474</td>\n",
       "      <td>-0.669369</td>\n",
       "      <td>24.084047</td>\n",
       "      <td>...</td>\n",
       "      <td>11.622927</td>\n",
       "      <td>290.176375</td>\n",
       "      <td>197.387781</td>\n",
       "      <td>24</td>\n",
       "      <td>0</td>\n",
       "      <td>1.0</td>\n",
       "      <td>0.0</td>\n",
       "      <td>-5.45</td>\n",
       "      <td>1</td>\n",
       "      <td>0</td>\n",
       "    </tr>\n",
       "    <tr>\n",
       "      <td>1</td>\n",
       "      <td>76.00000</td>\n",
       "      <td>100.000000</td>\n",
       "      <td>36.992492</td>\n",
       "      <td>201.000000</td>\n",
       "      <td>145.000000</td>\n",
       "      <td>108.000000</td>\n",
       "      <td>20.000000</td>\n",
       "      <td>33.076474</td>\n",
       "      <td>-0.669369</td>\n",
       "      <td>24.084047</td>\n",
       "      <td>...</td>\n",
       "      <td>11.622927</td>\n",
       "      <td>290.176375</td>\n",
       "      <td>197.387781</td>\n",
       "      <td>24</td>\n",
       "      <td>0</td>\n",
       "      <td>1.0</td>\n",
       "      <td>0.0</td>\n",
       "      <td>-5.45</td>\n",
       "      <td>2</td>\n",
       "      <td>1</td>\n",
       "    </tr>\n",
       "    <tr>\n",
       "      <td>2</td>\n",
       "      <td>77.00000</td>\n",
       "      <td>100.000000</td>\n",
       "      <td>36.400000</td>\n",
       "      <td>220.000000</td>\n",
       "      <td>155.000000</td>\n",
       "      <td>110.000000</td>\n",
       "      <td>22.000000</td>\n",
       "      <td>33.076474</td>\n",
       "      <td>-0.669369</td>\n",
       "      <td>24.084047</td>\n",
       "      <td>...</td>\n",
       "      <td>11.622927</td>\n",
       "      <td>290.176375</td>\n",
       "      <td>197.387781</td>\n",
       "      <td>24</td>\n",
       "      <td>0</td>\n",
       "      <td>1.0</td>\n",
       "      <td>0.0</td>\n",
       "      <td>-5.45</td>\n",
       "      <td>3</td>\n",
       "      <td>2</td>\n",
       "    </tr>\n",
       "    <tr>\n",
       "      <td>3</td>\n",
       "      <td>85.00000</td>\n",
       "      <td>100.000000</td>\n",
       "      <td>36.992492</td>\n",
       "      <td>196.000000</td>\n",
       "      <td>147.000000</td>\n",
       "      <td>110.000000</td>\n",
       "      <td>20.000000</td>\n",
       "      <td>33.076474</td>\n",
       "      <td>-0.669369</td>\n",
       "      <td>24.084047</td>\n",
       "      <td>...</td>\n",
       "      <td>6.600000</td>\n",
       "      <td>290.176375</td>\n",
       "      <td>145.000000</td>\n",
       "      <td>24</td>\n",
       "      <td>0</td>\n",
       "      <td>1.0</td>\n",
       "      <td>0.0</td>\n",
       "      <td>-5.45</td>\n",
       "      <td>4</td>\n",
       "      <td>3</td>\n",
       "    </tr>\n",
       "    <tr>\n",
       "      <td>4</td>\n",
       "      <td>87.00000</td>\n",
       "      <td>97.215386</td>\n",
       "      <td>35.900000</td>\n",
       "      <td>201.000000</td>\n",
       "      <td>154.000000</td>\n",
       "      <td>116.000000</td>\n",
       "      <td>20.000000</td>\n",
       "      <td>33.076474</td>\n",
       "      <td>-0.669369</td>\n",
       "      <td>24.084047</td>\n",
       "      <td>...</td>\n",
       "      <td>11.622927</td>\n",
       "      <td>290.176375</td>\n",
       "      <td>197.387781</td>\n",
       "      <td>24</td>\n",
       "      <td>0</td>\n",
       "      <td>1.0</td>\n",
       "      <td>0.0</td>\n",
       "      <td>-5.45</td>\n",
       "      <td>5</td>\n",
       "      <td>4</td>\n",
       "    </tr>\n",
       "    <tr>\n",
       "      <td>...</td>\n",
       "      <td>...</td>\n",
       "      <td>...</td>\n",
       "      <td>...</td>\n",
       "      <td>...</td>\n",
       "      <td>...</td>\n",
       "      <td>...</td>\n",
       "      <td>...</td>\n",
       "      <td>...</td>\n",
       "      <td>...</td>\n",
       "      <td>...</td>\n",
       "      <td>...</td>\n",
       "      <td>...</td>\n",
       "      <td>...</td>\n",
       "      <td>...</td>\n",
       "      <td>...</td>\n",
       "      <td>...</td>\n",
       "      <td>...</td>\n",
       "      <td>...</td>\n",
       "      <td>...</td>\n",
       "      <td>...</td>\n",
       "      <td>...</td>\n",
       "    </tr>\n",
       "    <tr>\n",
       "      <td>188191</td>\n",
       "      <td>80.00000</td>\n",
       "      <td>100.000000</td>\n",
       "      <td>36.500000</td>\n",
       "      <td>148.000000</td>\n",
       "      <td>80.000000</td>\n",
       "      <td>56.000000</td>\n",
       "      <td>18.735646</td>\n",
       "      <td>33.076474</td>\n",
       "      <td>-0.669369</td>\n",
       "      <td>24.084047</td>\n",
       "      <td>...</td>\n",
       "      <td>11.622927</td>\n",
       "      <td>290.176375</td>\n",
       "      <td>197.387781</td>\n",
       "      <td>71</td>\n",
       "      <td>1</td>\n",
       "      <td>0.0</td>\n",
       "      <td>1.0</td>\n",
       "      <td>-78.99</td>\n",
       "      <td>47</td>\n",
       "      <td>46</td>\n",
       "    </tr>\n",
       "    <tr>\n",
       "      <td>188192</td>\n",
       "      <td>80.00000</td>\n",
       "      <td>100.000000</td>\n",
       "      <td>36.200000</td>\n",
       "      <td>139.000000</td>\n",
       "      <td>77.000000</td>\n",
       "      <td>54.000000</td>\n",
       "      <td>18.735646</td>\n",
       "      <td>33.076474</td>\n",
       "      <td>-0.669369</td>\n",
       "      <td>24.084047</td>\n",
       "      <td>...</td>\n",
       "      <td>11.622927</td>\n",
       "      <td>290.176375</td>\n",
       "      <td>197.387781</td>\n",
       "      <td>71</td>\n",
       "      <td>1</td>\n",
       "      <td>0.0</td>\n",
       "      <td>1.0</td>\n",
       "      <td>-78.99</td>\n",
       "      <td>48</td>\n",
       "      <td>47</td>\n",
       "    </tr>\n",
       "    <tr>\n",
       "      <td>188193</td>\n",
       "      <td>80.00000</td>\n",
       "      <td>100.000000</td>\n",
       "      <td>36.050000</td>\n",
       "      <td>135.500000</td>\n",
       "      <td>75.500000</td>\n",
       "      <td>53.500000</td>\n",
       "      <td>18.735646</td>\n",
       "      <td>33.076474</td>\n",
       "      <td>-0.669369</td>\n",
       "      <td>24.084047</td>\n",
       "      <td>...</td>\n",
       "      <td>11.622927</td>\n",
       "      <td>290.176375</td>\n",
       "      <td>197.387781</td>\n",
       "      <td>71</td>\n",
       "      <td>1</td>\n",
       "      <td>0.0</td>\n",
       "      <td>1.0</td>\n",
       "      <td>-78.99</td>\n",
       "      <td>49</td>\n",
       "      <td>48</td>\n",
       "    </tr>\n",
       "    <tr>\n",
       "      <td>188194</td>\n",
       "      <td>80.00000</td>\n",
       "      <td>100.000000</td>\n",
       "      <td>35.900000</td>\n",
       "      <td>138.000000</td>\n",
       "      <td>77.000000</td>\n",
       "      <td>54.000000</td>\n",
       "      <td>14.000000</td>\n",
       "      <td>33.076474</td>\n",
       "      <td>-0.669369</td>\n",
       "      <td>24.084047</td>\n",
       "      <td>...</td>\n",
       "      <td>11.622927</td>\n",
       "      <td>290.176375</td>\n",
       "      <td>197.387781</td>\n",
       "      <td>71</td>\n",
       "      <td>1</td>\n",
       "      <td>0.0</td>\n",
       "      <td>1.0</td>\n",
       "      <td>-78.99</td>\n",
       "      <td>50</td>\n",
       "      <td>49</td>\n",
       "    </tr>\n",
       "    <tr>\n",
       "      <td>188195</td>\n",
       "      <td>80.00000</td>\n",
       "      <td>100.000000</td>\n",
       "      <td>35.750000</td>\n",
       "      <td>139.000000</td>\n",
       "      <td>80.000000</td>\n",
       "      <td>56.500000</td>\n",
       "      <td>18.735646</td>\n",
       "      <td>33.076474</td>\n",
       "      <td>-0.669369</td>\n",
       "      <td>24.084047</td>\n",
       "      <td>...</td>\n",
       "      <td>11.622927</td>\n",
       "      <td>290.176375</td>\n",
       "      <td>197.387781</td>\n",
       "      <td>71</td>\n",
       "      <td>1</td>\n",
       "      <td>0.0</td>\n",
       "      <td>1.0</td>\n",
       "      <td>-78.99</td>\n",
       "      <td>51</td>\n",
       "      <td>50</td>\n",
       "    </tr>\n",
       "  </tbody>\n",
       "</table>\n",
       "<p>188196 rows × 41 columns</p>\n",
       "</div>"
      ],
      "text/plain": [
       "              HR       O2Sat       Temp         SBP         MAP         DBP  \\\n",
       "0       84.67723   97.215386  36.992492  122.748613   81.127775   62.743065   \n",
       "1       76.00000  100.000000  36.992492  201.000000  145.000000  108.000000   \n",
       "2       77.00000  100.000000  36.400000  220.000000  155.000000  110.000000   \n",
       "3       85.00000  100.000000  36.992492  196.000000  147.000000  110.000000   \n",
       "4       87.00000   97.215386  35.900000  201.000000  154.000000  116.000000   \n",
       "...          ...         ...        ...         ...         ...         ...   \n",
       "188191  80.00000  100.000000  36.500000  148.000000   80.000000   56.000000   \n",
       "188192  80.00000  100.000000  36.200000  139.000000   77.000000   54.000000   \n",
       "188193  80.00000  100.000000  36.050000  135.500000   75.500000   53.500000   \n",
       "188194  80.00000  100.000000  35.900000  138.000000   77.000000   54.000000   \n",
       "188195  80.00000  100.000000  35.750000  139.000000   80.000000   56.500000   \n",
       "\n",
       "             Resp      EtCO2  BaseExcess       HCO3  ...        WBC  \\\n",
       "0       18.735646  33.076474   -0.669369  24.084047  ...  11.622927   \n",
       "1       20.000000  33.076474   -0.669369  24.084047  ...  11.622927   \n",
       "2       22.000000  33.076474   -0.669369  24.084047  ...  11.622927   \n",
       "3       20.000000  33.076474   -0.669369  24.084047  ...   6.600000   \n",
       "4       20.000000  33.076474   -0.669369  24.084047  ...  11.622927   \n",
       "...           ...        ...         ...        ...  ...        ...   \n",
       "188191  18.735646  33.076474   -0.669369  24.084047  ...  11.622927   \n",
       "188192  18.735646  33.076474   -0.669369  24.084047  ...  11.622927   \n",
       "188193  18.735646  33.076474   -0.669369  24.084047  ...  11.622927   \n",
       "188194  14.000000  33.076474   -0.669369  24.084047  ...  11.622927   \n",
       "188195  18.735646  33.076474   -0.669369  24.084047  ...  11.622927   \n",
       "\n",
       "        Fibrinogen   Platelets  Age  Gender  Unit1  Unit2  HospAdmTime  \\\n",
       "0       290.176375  197.387781   24       0    1.0    0.0        -5.45   \n",
       "1       290.176375  197.387781   24       0    1.0    0.0        -5.45   \n",
       "2       290.176375  197.387781   24       0    1.0    0.0        -5.45   \n",
       "3       290.176375  145.000000   24       0    1.0    0.0        -5.45   \n",
       "4       290.176375  197.387781   24       0    1.0    0.0        -5.45   \n",
       "...            ...         ...  ...     ...    ...    ...          ...   \n",
       "188191  290.176375  197.387781   71       1    0.0    1.0       -78.99   \n",
       "188192  290.176375  197.387781   71       1    0.0    1.0       -78.99   \n",
       "188193  290.176375  197.387781   71       1    0.0    1.0       -78.99   \n",
       "188194  290.176375  197.387781   71       1    0.0    1.0       -78.99   \n",
       "188195  290.176375  197.387781   71       1    0.0    1.0       -78.99   \n",
       "\n",
       "        ICULOS  time  \n",
       "0            1     0  \n",
       "1            2     1  \n",
       "2            3     2  \n",
       "3            4     3  \n",
       "4            5     4  \n",
       "...        ...   ...  \n",
       "188191      47    46  \n",
       "188192      48    47  \n",
       "188193      49    48  \n",
       "188194      50    49  \n",
       "188195      51    50  \n",
       "\n",
       "[188196 rows x 41 columns]"
      ]
     },
     "execution_count": 44,
     "metadata": {},
     "output_type": "execute_result"
    }
   ],
   "source": [
    "x_test"
   ]
  },
  {
   "cell_type": "code",
   "execution_count": 45,
   "metadata": {},
   "outputs": [],
   "source": [
    "y_test = test_copy['SepsisLabel']"
   ]
  },
  {
   "cell_type": "code",
   "execution_count": 46,
   "metadata": {},
   "outputs": [
    {
     "data": {
      "text/plain": [
       "0         0\n",
       "1         0\n",
       "2         0\n",
       "3         0\n",
       "4         0\n",
       "         ..\n",
       "188191    0\n",
       "188192    0\n",
       "188193    0\n",
       "188194    0\n",
       "188195    0\n",
       "Name: SepsisLabel, Length: 188196, dtype: int64"
      ]
     },
     "execution_count": 46,
     "metadata": {},
     "output_type": "execute_result"
    }
   ],
   "source": [
    "y_test"
   ]
  },
  {
   "cell_type": "code",
   "execution_count": 47,
   "metadata": {},
   "outputs": [],
   "source": [
    "val = pd.read_csv('val_patient.csv')"
   ]
  },
  {
   "cell_type": "code",
   "execution_count": 48,
   "metadata": {},
   "outputs": [],
   "source": [
    "val = val.fillna(train.mean())"
   ]
  },
  {
   "cell_type": "code",
   "execution_count": 49,
   "metadata": {},
   "outputs": [
    {
     "data": {
      "text/html": [
       "<div>\n",
       "<style scoped>\n",
       "    .dataframe tbody tr th:only-of-type {\n",
       "        vertical-align: middle;\n",
       "    }\n",
       "\n",
       "    .dataframe tbody tr th {\n",
       "        vertical-align: top;\n",
       "    }\n",
       "\n",
       "    .dataframe thead th {\n",
       "        text-align: right;\n",
       "    }\n",
       "</style>\n",
       "<table border=\"1\" class=\"dataframe\">\n",
       "  <thead>\n",
       "    <tr style=\"text-align: right;\">\n",
       "      <th></th>\n",
       "      <th>HR</th>\n",
       "      <th>O2Sat</th>\n",
       "      <th>Temp</th>\n",
       "      <th>SBP</th>\n",
       "      <th>MAP</th>\n",
       "      <th>DBP</th>\n",
       "      <th>Resp</th>\n",
       "      <th>EtCO2</th>\n",
       "      <th>BaseExcess</th>\n",
       "      <th>HCO3</th>\n",
       "      <th>...</th>\n",
       "      <th>Platelets</th>\n",
       "      <th>Age</th>\n",
       "      <th>Gender</th>\n",
       "      <th>Unit1</th>\n",
       "      <th>Unit2</th>\n",
       "      <th>HospAdmTime</th>\n",
       "      <th>ICULOS</th>\n",
       "      <th>SepsisLabel</th>\n",
       "      <th>Patient_id</th>\n",
       "      <th>time</th>\n",
       "    </tr>\n",
       "  </thead>\n",
       "  <tbody>\n",
       "    <tr>\n",
       "      <td>0</td>\n",
       "      <td>84.67723</td>\n",
       "      <td>97.215386</td>\n",
       "      <td>36.992492</td>\n",
       "      <td>122.748613</td>\n",
       "      <td>81.127775</td>\n",
       "      <td>62.743065</td>\n",
       "      <td>18.735646</td>\n",
       "      <td>33.076474</td>\n",
       "      <td>-0.669369</td>\n",
       "      <td>24.084047</td>\n",
       "      <td>...</td>\n",
       "      <td>197.387781</td>\n",
       "      <td>79</td>\n",
       "      <td>0</td>\n",
       "      <td>1.0</td>\n",
       "      <td>0.0</td>\n",
       "      <td>-122.41</td>\n",
       "      <td>1</td>\n",
       "      <td>0</td>\n",
       "      <td>10000</td>\n",
       "      <td>0</td>\n",
       "    </tr>\n",
       "    <tr>\n",
       "      <td>1</td>\n",
       "      <td>92.00000</td>\n",
       "      <td>100.000000</td>\n",
       "      <td>36.992492</td>\n",
       "      <td>117.000000</td>\n",
       "      <td>101.000000</td>\n",
       "      <td>71.000000</td>\n",
       "      <td>18.000000</td>\n",
       "      <td>33.076474</td>\n",
       "      <td>-0.669369</td>\n",
       "      <td>24.084047</td>\n",
       "      <td>...</td>\n",
       "      <td>197.387781</td>\n",
       "      <td>79</td>\n",
       "      <td>0</td>\n",
       "      <td>1.0</td>\n",
       "      <td>0.0</td>\n",
       "      <td>-122.41</td>\n",
       "      <td>2</td>\n",
       "      <td>0</td>\n",
       "      <td>10000</td>\n",
       "      <td>1</td>\n",
       "    </tr>\n",
       "    <tr>\n",
       "      <td>2</td>\n",
       "      <td>90.00000</td>\n",
       "      <td>97.500000</td>\n",
       "      <td>36.992492</td>\n",
       "      <td>115.000000</td>\n",
       "      <td>89.000000</td>\n",
       "      <td>67.000000</td>\n",
       "      <td>17.500000</td>\n",
       "      <td>33.076474</td>\n",
       "      <td>-0.669369</td>\n",
       "      <td>24.084047</td>\n",
       "      <td>...</td>\n",
       "      <td>197.387781</td>\n",
       "      <td>79</td>\n",
       "      <td>0</td>\n",
       "      <td>1.0</td>\n",
       "      <td>0.0</td>\n",
       "      <td>-122.41</td>\n",
       "      <td>3</td>\n",
       "      <td>0</td>\n",
       "      <td>10000</td>\n",
       "      <td>2</td>\n",
       "    </tr>\n",
       "    <tr>\n",
       "      <td>3</td>\n",
       "      <td>72.00000</td>\n",
       "      <td>98.000000</td>\n",
       "      <td>36.992492</td>\n",
       "      <td>110.000000</td>\n",
       "      <td>81.000000</td>\n",
       "      <td>64.000000</td>\n",
       "      <td>17.000000</td>\n",
       "      <td>33.076474</td>\n",
       "      <td>-0.669369</td>\n",
       "      <td>24.084047</td>\n",
       "      <td>...</td>\n",
       "      <td>197.387781</td>\n",
       "      <td>79</td>\n",
       "      <td>0</td>\n",
       "      <td>1.0</td>\n",
       "      <td>0.0</td>\n",
       "      <td>-122.41</td>\n",
       "      <td>4</td>\n",
       "      <td>0</td>\n",
       "      <td>10000</td>\n",
       "      <td>3</td>\n",
       "    </tr>\n",
       "    <tr>\n",
       "      <td>4</td>\n",
       "      <td>84.67723</td>\n",
       "      <td>97.215386</td>\n",
       "      <td>36.992492</td>\n",
       "      <td>122.748613</td>\n",
       "      <td>81.127775</td>\n",
       "      <td>62.743065</td>\n",
       "      <td>18.735646</td>\n",
       "      <td>33.076474</td>\n",
       "      <td>-0.669369</td>\n",
       "      <td>24.084047</td>\n",
       "      <td>...</td>\n",
       "      <td>197.387781</td>\n",
       "      <td>79</td>\n",
       "      <td>0</td>\n",
       "      <td>1.0</td>\n",
       "      <td>0.0</td>\n",
       "      <td>-122.41</td>\n",
       "      <td>5</td>\n",
       "      <td>0</td>\n",
       "      <td>10000</td>\n",
       "      <td>4</td>\n",
       "    </tr>\n",
       "  </tbody>\n",
       "</table>\n",
       "<p>5 rows × 43 columns</p>\n",
       "</div>"
      ],
      "text/plain": [
       "         HR       O2Sat       Temp         SBP         MAP        DBP  \\\n",
       "0  84.67723   97.215386  36.992492  122.748613   81.127775  62.743065   \n",
       "1  92.00000  100.000000  36.992492  117.000000  101.000000  71.000000   \n",
       "2  90.00000   97.500000  36.992492  115.000000   89.000000  67.000000   \n",
       "3  72.00000   98.000000  36.992492  110.000000   81.000000  64.000000   \n",
       "4  84.67723   97.215386  36.992492  122.748613   81.127775  62.743065   \n",
       "\n",
       "        Resp      EtCO2  BaseExcess       HCO3  ...   Platelets  Age  Gender  \\\n",
       "0  18.735646  33.076474   -0.669369  24.084047  ...  197.387781   79       0   \n",
       "1  18.000000  33.076474   -0.669369  24.084047  ...  197.387781   79       0   \n",
       "2  17.500000  33.076474   -0.669369  24.084047  ...  197.387781   79       0   \n",
       "3  17.000000  33.076474   -0.669369  24.084047  ...  197.387781   79       0   \n",
       "4  18.735646  33.076474   -0.669369  24.084047  ...  197.387781   79       0   \n",
       "\n",
       "   Unit1  Unit2  HospAdmTime  ICULOS  SepsisLabel  Patient_id  time  \n",
       "0    1.0    0.0      -122.41       1            0       10000     0  \n",
       "1    1.0    0.0      -122.41       2            0       10000     1  \n",
       "2    1.0    0.0      -122.41       3            0       10000     2  \n",
       "3    1.0    0.0      -122.41       4            0       10000     3  \n",
       "4    1.0    0.0      -122.41       5            0       10000     4  \n",
       "\n",
       "[5 rows x 43 columns]"
      ]
     },
     "execution_count": 49,
     "metadata": {},
     "output_type": "execute_result"
    }
   ],
   "source": [
    "val.head()"
   ]
  },
  {
   "cell_type": "code",
   "execution_count": 50,
   "metadata": {},
   "outputs": [
    {
     "data": {
      "text/plain": [
       "192060"
      ]
     },
     "execution_count": 50,
     "metadata": {},
     "output_type": "execute_result"
    }
   ],
   "source": [
    "len(val)"
   ]
  },
  {
   "cell_type": "code",
   "execution_count": 51,
   "metadata": {},
   "outputs": [],
   "source": [
    "x_val = val.drop(['SepsisLabel', 'Patient_id'], axis=1)"
   ]
  },
  {
   "cell_type": "code",
   "execution_count": 52,
   "metadata": {},
   "outputs": [
    {
     "data": {
      "text/html": [
       "<div>\n",
       "<style scoped>\n",
       "    .dataframe tbody tr th:only-of-type {\n",
       "        vertical-align: middle;\n",
       "    }\n",
       "\n",
       "    .dataframe tbody tr th {\n",
       "        vertical-align: top;\n",
       "    }\n",
       "\n",
       "    .dataframe thead th {\n",
       "        text-align: right;\n",
       "    }\n",
       "</style>\n",
       "<table border=\"1\" class=\"dataframe\">\n",
       "  <thead>\n",
       "    <tr style=\"text-align: right;\">\n",
       "      <th></th>\n",
       "      <th>HR</th>\n",
       "      <th>O2Sat</th>\n",
       "      <th>Temp</th>\n",
       "      <th>SBP</th>\n",
       "      <th>MAP</th>\n",
       "      <th>DBP</th>\n",
       "      <th>Resp</th>\n",
       "      <th>EtCO2</th>\n",
       "      <th>BaseExcess</th>\n",
       "      <th>HCO3</th>\n",
       "      <th>...</th>\n",
       "      <th>WBC</th>\n",
       "      <th>Fibrinogen</th>\n",
       "      <th>Platelets</th>\n",
       "      <th>Age</th>\n",
       "      <th>Gender</th>\n",
       "      <th>Unit1</th>\n",
       "      <th>Unit2</th>\n",
       "      <th>HospAdmTime</th>\n",
       "      <th>ICULOS</th>\n",
       "      <th>time</th>\n",
       "    </tr>\n",
       "  </thead>\n",
       "  <tbody>\n",
       "    <tr>\n",
       "      <td>0</td>\n",
       "      <td>84.67723</td>\n",
       "      <td>97.215386</td>\n",
       "      <td>36.992492</td>\n",
       "      <td>122.748613</td>\n",
       "      <td>81.127775</td>\n",
       "      <td>62.743065</td>\n",
       "      <td>18.735646</td>\n",
       "      <td>33.076474</td>\n",
       "      <td>-0.669369</td>\n",
       "      <td>24.084047</td>\n",
       "      <td>...</td>\n",
       "      <td>11.622927</td>\n",
       "      <td>290.176375</td>\n",
       "      <td>197.387781</td>\n",
       "      <td>79</td>\n",
       "      <td>0</td>\n",
       "      <td>1.000000</td>\n",
       "      <td>0.000000</td>\n",
       "      <td>-122.41</td>\n",
       "      <td>1</td>\n",
       "      <td>0</td>\n",
       "    </tr>\n",
       "    <tr>\n",
       "      <td>1</td>\n",
       "      <td>92.00000</td>\n",
       "      <td>100.000000</td>\n",
       "      <td>36.992492</td>\n",
       "      <td>117.000000</td>\n",
       "      <td>101.000000</td>\n",
       "      <td>71.000000</td>\n",
       "      <td>18.000000</td>\n",
       "      <td>33.076474</td>\n",
       "      <td>-0.669369</td>\n",
       "      <td>24.084047</td>\n",
       "      <td>...</td>\n",
       "      <td>11.622927</td>\n",
       "      <td>290.176375</td>\n",
       "      <td>197.387781</td>\n",
       "      <td>79</td>\n",
       "      <td>0</td>\n",
       "      <td>1.000000</td>\n",
       "      <td>0.000000</td>\n",
       "      <td>-122.41</td>\n",
       "      <td>2</td>\n",
       "      <td>1</td>\n",
       "    </tr>\n",
       "    <tr>\n",
       "      <td>2</td>\n",
       "      <td>90.00000</td>\n",
       "      <td>97.500000</td>\n",
       "      <td>36.992492</td>\n",
       "      <td>115.000000</td>\n",
       "      <td>89.000000</td>\n",
       "      <td>67.000000</td>\n",
       "      <td>17.500000</td>\n",
       "      <td>33.076474</td>\n",
       "      <td>-0.669369</td>\n",
       "      <td>24.084047</td>\n",
       "      <td>...</td>\n",
       "      <td>11.622927</td>\n",
       "      <td>290.176375</td>\n",
       "      <td>197.387781</td>\n",
       "      <td>79</td>\n",
       "      <td>0</td>\n",
       "      <td>1.000000</td>\n",
       "      <td>0.000000</td>\n",
       "      <td>-122.41</td>\n",
       "      <td>3</td>\n",
       "      <td>2</td>\n",
       "    </tr>\n",
       "    <tr>\n",
       "      <td>3</td>\n",
       "      <td>72.00000</td>\n",
       "      <td>98.000000</td>\n",
       "      <td>36.992492</td>\n",
       "      <td>110.000000</td>\n",
       "      <td>81.000000</td>\n",
       "      <td>64.000000</td>\n",
       "      <td>17.000000</td>\n",
       "      <td>33.076474</td>\n",
       "      <td>-0.669369</td>\n",
       "      <td>24.084047</td>\n",
       "      <td>...</td>\n",
       "      <td>11.622927</td>\n",
       "      <td>290.176375</td>\n",
       "      <td>197.387781</td>\n",
       "      <td>79</td>\n",
       "      <td>0</td>\n",
       "      <td>1.000000</td>\n",
       "      <td>0.000000</td>\n",
       "      <td>-122.41</td>\n",
       "      <td>4</td>\n",
       "      <td>3</td>\n",
       "    </tr>\n",
       "    <tr>\n",
       "      <td>4</td>\n",
       "      <td>84.67723</td>\n",
       "      <td>97.215386</td>\n",
       "      <td>36.992492</td>\n",
       "      <td>122.748613</td>\n",
       "      <td>81.127775</td>\n",
       "      <td>62.743065</td>\n",
       "      <td>18.735646</td>\n",
       "      <td>33.076474</td>\n",
       "      <td>-0.669369</td>\n",
       "      <td>24.084047</td>\n",
       "      <td>...</td>\n",
       "      <td>11.622927</td>\n",
       "      <td>290.176375</td>\n",
       "      <td>197.387781</td>\n",
       "      <td>79</td>\n",
       "      <td>0</td>\n",
       "      <td>1.000000</td>\n",
       "      <td>0.000000</td>\n",
       "      <td>-122.41</td>\n",
       "      <td>5</td>\n",
       "      <td>4</td>\n",
       "    </tr>\n",
       "    <tr>\n",
       "      <td>...</td>\n",
       "      <td>...</td>\n",
       "      <td>...</td>\n",
       "      <td>...</td>\n",
       "      <td>...</td>\n",
       "      <td>...</td>\n",
       "      <td>...</td>\n",
       "      <td>...</td>\n",
       "      <td>...</td>\n",
       "      <td>...</td>\n",
       "      <td>...</td>\n",
       "      <td>...</td>\n",
       "      <td>...</td>\n",
       "      <td>...</td>\n",
       "      <td>...</td>\n",
       "      <td>...</td>\n",
       "      <td>...</td>\n",
       "      <td>...</td>\n",
       "      <td>...</td>\n",
       "      <td>...</td>\n",
       "      <td>...</td>\n",
       "      <td>...</td>\n",
       "    </tr>\n",
       "    <tr>\n",
       "      <td>192055</td>\n",
       "      <td>75.00000</td>\n",
       "      <td>98.000000</td>\n",
       "      <td>36.000000</td>\n",
       "      <td>115.000000</td>\n",
       "      <td>92.000000</td>\n",
       "      <td>78.000000</td>\n",
       "      <td>18.735646</td>\n",
       "      <td>33.076474</td>\n",
       "      <td>-0.669369</td>\n",
       "      <td>24.084047</td>\n",
       "      <td>...</td>\n",
       "      <td>11.622927</td>\n",
       "      <td>290.176375</td>\n",
       "      <td>197.387781</td>\n",
       "      <td>39</td>\n",
       "      <td>0</td>\n",
       "      <td>0.501491</td>\n",
       "      <td>0.498509</td>\n",
       "      <td>-4.92</td>\n",
       "      <td>46</td>\n",
       "      <td>45</td>\n",
       "    </tr>\n",
       "    <tr>\n",
       "      <td>192056</td>\n",
       "      <td>73.00000</td>\n",
       "      <td>98.000000</td>\n",
       "      <td>36.992492</td>\n",
       "      <td>143.000000</td>\n",
       "      <td>108.000000</td>\n",
       "      <td>85.000000</td>\n",
       "      <td>16.000000</td>\n",
       "      <td>33.076474</td>\n",
       "      <td>-0.669369</td>\n",
       "      <td>24.084047</td>\n",
       "      <td>...</td>\n",
       "      <td>11.622927</td>\n",
       "      <td>290.176375</td>\n",
       "      <td>197.387781</td>\n",
       "      <td>39</td>\n",
       "      <td>0</td>\n",
       "      <td>0.501491</td>\n",
       "      <td>0.498509</td>\n",
       "      <td>-4.92</td>\n",
       "      <td>47</td>\n",
       "      <td>46</td>\n",
       "    </tr>\n",
       "    <tr>\n",
       "      <td>192057</td>\n",
       "      <td>75.00000</td>\n",
       "      <td>97.000000</td>\n",
       "      <td>36.992492</td>\n",
       "      <td>148.000000</td>\n",
       "      <td>109.000000</td>\n",
       "      <td>84.000000</td>\n",
       "      <td>17.000000</td>\n",
       "      <td>33.076474</td>\n",
       "      <td>-0.669369</td>\n",
       "      <td>24.084047</td>\n",
       "      <td>...</td>\n",
       "      <td>11.622927</td>\n",
       "      <td>290.176375</td>\n",
       "      <td>197.387781</td>\n",
       "      <td>39</td>\n",
       "      <td>0</td>\n",
       "      <td>0.501491</td>\n",
       "      <td>0.498509</td>\n",
       "      <td>-4.92</td>\n",
       "      <td>48</td>\n",
       "      <td>47</td>\n",
       "    </tr>\n",
       "    <tr>\n",
       "      <td>192058</td>\n",
       "      <td>75.00000</td>\n",
       "      <td>98.000000</td>\n",
       "      <td>36.992492</td>\n",
       "      <td>130.000000</td>\n",
       "      <td>91.000000</td>\n",
       "      <td>66.000000</td>\n",
       "      <td>18.000000</td>\n",
       "      <td>33.076474</td>\n",
       "      <td>-0.669369</td>\n",
       "      <td>24.084047</td>\n",
       "      <td>...</td>\n",
       "      <td>11.622927</td>\n",
       "      <td>290.176375</td>\n",
       "      <td>197.387781</td>\n",
       "      <td>39</td>\n",
       "      <td>0</td>\n",
       "      <td>0.501491</td>\n",
       "      <td>0.498509</td>\n",
       "      <td>-4.92</td>\n",
       "      <td>49</td>\n",
       "      <td>48</td>\n",
       "    </tr>\n",
       "    <tr>\n",
       "      <td>192059</td>\n",
       "      <td>88.00000</td>\n",
       "      <td>89.000000</td>\n",
       "      <td>36.200000</td>\n",
       "      <td>132.000000</td>\n",
       "      <td>104.000000</td>\n",
       "      <td>86.000000</td>\n",
       "      <td>19.000000</td>\n",
       "      <td>33.076474</td>\n",
       "      <td>-0.669369</td>\n",
       "      <td>24.084047</td>\n",
       "      <td>...</td>\n",
       "      <td>11.622927</td>\n",
       "      <td>290.176375</td>\n",
       "      <td>197.387781</td>\n",
       "      <td>39</td>\n",
       "      <td>0</td>\n",
       "      <td>0.501491</td>\n",
       "      <td>0.498509</td>\n",
       "      <td>-4.92</td>\n",
       "      <td>50</td>\n",
       "      <td>49</td>\n",
       "    </tr>\n",
       "  </tbody>\n",
       "</table>\n",
       "<p>192060 rows × 41 columns</p>\n",
       "</div>"
      ],
      "text/plain": [
       "              HR       O2Sat       Temp         SBP         MAP        DBP  \\\n",
       "0       84.67723   97.215386  36.992492  122.748613   81.127775  62.743065   \n",
       "1       92.00000  100.000000  36.992492  117.000000  101.000000  71.000000   \n",
       "2       90.00000   97.500000  36.992492  115.000000   89.000000  67.000000   \n",
       "3       72.00000   98.000000  36.992492  110.000000   81.000000  64.000000   \n",
       "4       84.67723   97.215386  36.992492  122.748613   81.127775  62.743065   \n",
       "...          ...         ...        ...         ...         ...        ...   \n",
       "192055  75.00000   98.000000  36.000000  115.000000   92.000000  78.000000   \n",
       "192056  73.00000   98.000000  36.992492  143.000000  108.000000  85.000000   \n",
       "192057  75.00000   97.000000  36.992492  148.000000  109.000000  84.000000   \n",
       "192058  75.00000   98.000000  36.992492  130.000000   91.000000  66.000000   \n",
       "192059  88.00000   89.000000  36.200000  132.000000  104.000000  86.000000   \n",
       "\n",
       "             Resp      EtCO2  BaseExcess       HCO3  ...        WBC  \\\n",
       "0       18.735646  33.076474   -0.669369  24.084047  ...  11.622927   \n",
       "1       18.000000  33.076474   -0.669369  24.084047  ...  11.622927   \n",
       "2       17.500000  33.076474   -0.669369  24.084047  ...  11.622927   \n",
       "3       17.000000  33.076474   -0.669369  24.084047  ...  11.622927   \n",
       "4       18.735646  33.076474   -0.669369  24.084047  ...  11.622927   \n",
       "...           ...        ...         ...        ...  ...        ...   \n",
       "192055  18.735646  33.076474   -0.669369  24.084047  ...  11.622927   \n",
       "192056  16.000000  33.076474   -0.669369  24.084047  ...  11.622927   \n",
       "192057  17.000000  33.076474   -0.669369  24.084047  ...  11.622927   \n",
       "192058  18.000000  33.076474   -0.669369  24.084047  ...  11.622927   \n",
       "192059  19.000000  33.076474   -0.669369  24.084047  ...  11.622927   \n",
       "\n",
       "        Fibrinogen   Platelets  Age  Gender     Unit1     Unit2  HospAdmTime  \\\n",
       "0       290.176375  197.387781   79       0  1.000000  0.000000      -122.41   \n",
       "1       290.176375  197.387781   79       0  1.000000  0.000000      -122.41   \n",
       "2       290.176375  197.387781   79       0  1.000000  0.000000      -122.41   \n",
       "3       290.176375  197.387781   79       0  1.000000  0.000000      -122.41   \n",
       "4       290.176375  197.387781   79       0  1.000000  0.000000      -122.41   \n",
       "...            ...         ...  ...     ...       ...       ...          ...   \n",
       "192055  290.176375  197.387781   39       0  0.501491  0.498509        -4.92   \n",
       "192056  290.176375  197.387781   39       0  0.501491  0.498509        -4.92   \n",
       "192057  290.176375  197.387781   39       0  0.501491  0.498509        -4.92   \n",
       "192058  290.176375  197.387781   39       0  0.501491  0.498509        -4.92   \n",
       "192059  290.176375  197.387781   39       0  0.501491  0.498509        -4.92   \n",
       "\n",
       "        ICULOS  time  \n",
       "0            1     0  \n",
       "1            2     1  \n",
       "2            3     2  \n",
       "3            4     3  \n",
       "4            5     4  \n",
       "...        ...   ...  \n",
       "192055      46    45  \n",
       "192056      47    46  \n",
       "192057      48    47  \n",
       "192058      49    48  \n",
       "192059      50    49  \n",
       "\n",
       "[192060 rows x 41 columns]"
      ]
     },
     "execution_count": 52,
     "metadata": {},
     "output_type": "execute_result"
    }
   ],
   "source": [
    "x_val"
   ]
  },
  {
   "cell_type": "code",
   "execution_count": 53,
   "metadata": {},
   "outputs": [],
   "source": [
    "y_val = val['SepsisLabel']"
   ]
  },
  {
   "cell_type": "code",
   "execution_count": 54,
   "metadata": {},
   "outputs": [
    {
     "data": {
      "text/plain": [
       "0         0\n",
       "1         0\n",
       "2         0\n",
       "3         0\n",
       "4         0\n",
       "         ..\n",
       "192055    0\n",
       "192056    0\n",
       "192057    0\n",
       "192058    0\n",
       "192059    0\n",
       "Name: SepsisLabel, Length: 192060, dtype: int64"
      ]
     },
     "execution_count": 54,
     "metadata": {},
     "output_type": "execute_result"
    }
   ],
   "source": [
    "y_val"
   ]
  },
  {
   "cell_type": "code",
   "execution_count": 55,
   "metadata": {},
   "outputs": [],
   "source": [
    "#Counting no of 1's and no of 0's"
   ]
  },
  {
   "cell_type": "code",
   "execution_count": 56,
   "metadata": {},
   "outputs": [
    {
     "data": {
      "text/plain": [
       "0.0    28015\n",
       "1.0     2321\n",
       "Name: SepsisLabel, dtype: int64"
      ]
     },
     "execution_count": 56,
     "metadata": {},
     "output_type": "execute_result"
    }
   ],
   "source": [
    "y.value_counts()"
   ]
  },
  {
   "cell_type": "code",
   "execution_count": 57,
   "metadata": {},
   "outputs": [],
   "source": [
    "clf = neighbors.KNeighborsClassifier()"
   ]
  },
  {
   "cell_type": "code",
   "execution_count": 58,
   "metadata": {},
   "outputs": [
    {
     "data": {
      "text/plain": [
       "KNeighborsClassifier(algorithm='auto', leaf_size=30, metric='minkowski',\n",
       "                     metric_params=None, n_jobs=None, n_neighbors=5, p=2,\n",
       "                     weights='uniform')"
      ]
     },
     "execution_count": 58,
     "metadata": {},
     "output_type": "execute_result"
    }
   ],
   "source": [
    "clf.fit(x,y)"
   ]
  },
  {
   "cell_type": "code",
   "execution_count": 59,
   "metadata": {},
   "outputs": [],
   "source": [
    "y_pred = clf.predict(x)"
   ]
  },
  {
   "cell_type": "code",
   "execution_count": 60,
   "metadata": {},
   "outputs": [
    {
     "data": {
      "text/plain": [
       "0.9348628691983122"
      ]
     },
     "execution_count": 60,
     "metadata": {},
     "output_type": "execute_result"
    }
   ],
   "source": [
    "accuracy_score(y_pred, y)"
   ]
  },
  {
   "cell_type": "code",
   "execution_count": 61,
   "metadata": {},
   "outputs": [],
   "source": [
    "y_pred = clf.predict(x_test)"
   ]
  },
  {
   "cell_type": "code",
   "execution_count": 62,
   "metadata": {},
   "outputs": [
    {
     "data": {
      "text/plain": [
       "0.9363270207655848"
      ]
     },
     "execution_count": 62,
     "metadata": {},
     "output_type": "execute_result"
    }
   ],
   "source": [
    "accuracy_score(y_pred, y_test)"
   ]
  },
  {
   "cell_type": "code",
   "execution_count": 63,
   "metadata": {},
   "outputs": [],
   "source": [
    "y_pred = clf.predict(x_val)"
   ]
  },
  {
   "cell_type": "code",
   "execution_count": 64,
   "metadata": {},
   "outputs": [
    {
     "data": {
      "text/plain": [
       "0.9254139331458919"
      ]
     },
     "execution_count": 64,
     "metadata": {},
     "output_type": "execute_result"
    }
   ],
   "source": [
    "accuracy_score(y_pred, y_val)"
   ]
  },
  {
   "cell_type": "code",
   "execution_count": 65,
   "metadata": {},
   "outputs": [],
   "source": [
    "from sklearn import metrics"
   ]
  },
  {
   "cell_type": "code",
   "execution_count": 66,
   "metadata": {},
   "outputs": [],
   "source": [
    "y_pred = clf.predict(x_test)"
   ]
  },
  {
   "cell_type": "code",
   "execution_count": 67,
   "metadata": {},
   "outputs": [
    {
     "data": {
      "text/plain": [
       "0.9363270207655848"
      ]
     },
     "execution_count": 67,
     "metadata": {},
     "output_type": "execute_result"
    }
   ],
   "source": [
    "accuracy_score(y_pred, y_test)"
   ]
  },
  {
   "cell_type": "code",
   "execution_count": 68,
   "metadata": {},
   "outputs": [],
   "source": [
    "cm = metrics.confusion_matrix(y_test, y_pred)"
   ]
  },
  {
   "cell_type": "code",
   "execution_count": 69,
   "metadata": {},
   "outputs": [
    {
     "data": {
      "text/plain": [
       "array([[175526,   9943],\n",
       "       [  2040,    687]])"
      ]
     },
     "execution_count": 69,
     "metadata": {},
     "output_type": "execute_result"
    }
   ],
   "source": [
    "cm"
   ]
  },
  {
   "cell_type": "code",
   "execution_count": 70,
   "metadata": {},
   "outputs": [
    {
     "data": {
      "text/plain": [
       "<matplotlib.axes._subplots.AxesSubplot at 0x7fe2d0b0dd10>"
      ]
     },
     "execution_count": 70,
     "metadata": {},
     "output_type": "execute_result"
    },
    {
     "data": {
      "image/png": "[encoded data removed]",
      "text/plain": [
       "<Figure size 360x360 with 2 Axes>"
      ]
     },
     "metadata": {
      "needs_background": "light"
     },
     "output_type": "display_data"
    }
   ],
   "source": [
    "sns.heatmap(cm)"
   ]
  },
  {
   "cell_type": "code",
   "execution_count": 71,
   "metadata": {},
   "outputs": [],
   "source": [
    "corrmat = train.corr()['SepsisLabel']"
   ]
  },
  {
   "cell_type": "code",
   "execution_count": 72,
   "metadata": {},
   "outputs": [
    {
     "data": {
      "text/plain": [
       "HR                  0.049267\n",
       "O2Sat              -0.008254\n",
       "Temp                0.045743\n",
       "SBP                -0.012382\n",
       "MAP                -0.016315\n",
       "DBP                -0.013194\n",
       "Resp                0.049117\n",
       "EtCO2              -0.005802\n",
       "BaseExcess          0.016229\n",
       "HCO3               -0.013879\n",
       "FiO2               -0.000133\n",
       "pH                 -0.006343\n",
       "PaCO2               0.018993\n",
       "SaO2                0.009781\n",
       "AST                 0.011553\n",
       "BUN                 0.052178\n",
       "Alkalinephos        0.013133\n",
       "Calcium            -0.033683\n",
       "Chloride           -0.011011\n",
       "Creatinine          0.026320\n",
       "Bilirubin_direct    0.062844\n",
       "Glucose             0.010614\n",
       "Lactate             0.009632\n",
       "Magnesium           0.003438\n",
       "Phosphate           0.017283\n",
       "Potassium           0.005862\n",
       "Bilirubin_total     0.053385\n",
       "TroponinI           0.001973\n",
       "Hct                -0.013073\n",
       "Hgb                -0.018127\n",
       "PTT                 0.019033\n",
       "WBC                 0.038500\n",
       "Fibrinogen          0.044822\n",
       "Platelets          -0.009642\n",
       "Age                -0.000674\n",
       "Gender              0.008810\n",
       "Unit1               0.037712\n",
       "Unit2              -0.037712\n",
       "HospAdmTime        -0.019699\n",
       "ICULOS              0.137589\n",
       "SepsisLabel         1.000000\n",
       "Patient_id         -0.024304\n",
       "time                0.137730\n",
       "Name: SepsisLabel, dtype: float64"
      ]
     },
     "execution_count": 72,
     "metadata": {},
     "output_type": "execute_result"
    }
   ],
   "source": [
    "corrmat"
   ]
  },
  {
   "cell_type": "code",
   "execution_count": null,
   "metadata": {},
   "outputs": [],
   "source": []
  }
 ],
 "metadata": {
  "kernelspec": {
   "display_name": "Python 3",
   "language": "python",
   "name": "python3"
  },
  "language_info": {
   "codemirror_mode": {
    "name": "ipython",
    "version": 3
   },
   "file_extension": ".py",
   "mimetype": "text/x-python",
   "name": "python",
   "nbconvert_exporter": "python",
   "pygments_lexer": "ipython3",
   "version": "3.7.4"
  }
 },
 "nbformat": 4,
 "nbformat_minor": 2
}
