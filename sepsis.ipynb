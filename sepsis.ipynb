{
 "cells": [
  {
   "cell_type": "code",
   "execution_count": 4,
   "metadata": {},
   "outputs": [],
   "source": [
    "import numpy as np\n",
    "import pandas as pd\n",
    "import matplotlib.pyplot as plt\n",
    "import seaborn as sns"
   ]
  },
  {
   "cell_type": "code",
   "execution_count": 5,
   "metadata": {},
   "outputs": [],
   "source": [
    "df = pd.read_csv('Desktop/sepsis.csv')"
   ]
  },
  {
   "cell_type": "code",
   "execution_count": 3,
   "metadata": {},
   "outputs": [
    {
     "data": {
      "text/plain": [
       "(191725, 43)"
      ]
     },
     "execution_count": 3,
     "metadata": {},
     "output_type": "execute_result"
    }
   ],
   "source": [
    "df.shape"
   ]
  },
  {
   "cell_type": "code",
   "execution_count": 7,
   "metadata": {},
   "outputs": [
    {
     "data": {
      "text/html": [
       "<div>\n",
       "<style scoped>\n",
       "    .dataframe tbody tr th:only-of-type {\n",
       "        vertical-align: middle;\n",
       "    }\n",
       "\n",
       "    .dataframe tbody tr th {\n",
       "        vertical-align: top;\n",
       "    }\n",
       "\n",
       "    .dataframe thead th {\n",
       "        text-align: right;\n",
       "    }\n",
       "</style>\n",
       "<table border=\"1\" class=\"dataframe\">\n",
       "  <thead>\n",
       "    <tr style=\"text-align: right;\">\n",
       "      <th></th>\n",
       "      <th>HR</th>\n",
       "      <th>O2Sat</th>\n",
       "      <th>Temp</th>\n",
       "      <th>SBP</th>\n",
       "      <th>MAP</th>\n",
       "      <th>DBP</th>\n",
       "      <th>Resp</th>\n",
       "      <th>EtCO2</th>\n",
       "      <th>BaseExcess</th>\n",
       "      <th>HCO3</th>\n",
       "      <th>...</th>\n",
       "      <th>Platelets</th>\n",
       "      <th>Age</th>\n",
       "      <th>Gender</th>\n",
       "      <th>Unit1</th>\n",
       "      <th>Unit2</th>\n",
       "      <th>HospAdmTime</th>\n",
       "      <th>ICULOS</th>\n",
       "      <th>SepsisLabel</th>\n",
       "      <th>Patient_id</th>\n",
       "      <th>time</th>\n",
       "    </tr>\n",
       "  </thead>\n",
       "  <tbody>\n",
       "    <tr>\n",
       "      <th>0</th>\n",
       "      <td>NaN</td>\n",
       "      <td>NaN</td>\n",
       "      <td>NaN</td>\n",
       "      <td>NaN</td>\n",
       "      <td>NaN</td>\n",
       "      <td>NaN</td>\n",
       "      <td>NaN</td>\n",
       "      <td>NaN</td>\n",
       "      <td>NaN</td>\n",
       "      <td>NaN</td>\n",
       "      <td>...</td>\n",
       "      <td>NaN</td>\n",
       "      <td>79</td>\n",
       "      <td>0</td>\n",
       "      <td>1.0</td>\n",
       "      <td>0.0</td>\n",
       "      <td>-122.41</td>\n",
       "      <td>1</td>\n",
       "      <td>0</td>\n",
       "      <td>10000</td>\n",
       "      <td>0</td>\n",
       "    </tr>\n",
       "    <tr>\n",
       "      <th>1</th>\n",
       "      <td>92.0</td>\n",
       "      <td>100.0</td>\n",
       "      <td>NaN</td>\n",
       "      <td>117.0</td>\n",
       "      <td>101.0</td>\n",
       "      <td>71.0</td>\n",
       "      <td>18.0</td>\n",
       "      <td>NaN</td>\n",
       "      <td>NaN</td>\n",
       "      <td>NaN</td>\n",
       "      <td>...</td>\n",
       "      <td>NaN</td>\n",
       "      <td>79</td>\n",
       "      <td>0</td>\n",
       "      <td>1.0</td>\n",
       "      <td>0.0</td>\n",
       "      <td>-122.41</td>\n",
       "      <td>2</td>\n",
       "      <td>0</td>\n",
       "      <td>10000</td>\n",
       "      <td>1</td>\n",
       "    </tr>\n",
       "    <tr>\n",
       "      <th>2</th>\n",
       "      <td>90.0</td>\n",
       "      <td>97.5</td>\n",
       "      <td>NaN</td>\n",
       "      <td>115.0</td>\n",
       "      <td>89.0</td>\n",
       "      <td>67.0</td>\n",
       "      <td>17.5</td>\n",
       "      <td>NaN</td>\n",
       "      <td>NaN</td>\n",
       "      <td>NaN</td>\n",
       "      <td>...</td>\n",
       "      <td>NaN</td>\n",
       "      <td>79</td>\n",
       "      <td>0</td>\n",
       "      <td>1.0</td>\n",
       "      <td>0.0</td>\n",
       "      <td>-122.41</td>\n",
       "      <td>3</td>\n",
       "      <td>0</td>\n",
       "      <td>10000</td>\n",
       "      <td>2</td>\n",
       "    </tr>\n",
       "    <tr>\n",
       "      <th>3</th>\n",
       "      <td>72.0</td>\n",
       "      <td>98.0</td>\n",
       "      <td>NaN</td>\n",
       "      <td>110.0</td>\n",
       "      <td>81.0</td>\n",
       "      <td>64.0</td>\n",
       "      <td>17.0</td>\n",
       "      <td>NaN</td>\n",
       "      <td>NaN</td>\n",
       "      <td>NaN</td>\n",
       "      <td>...</td>\n",
       "      <td>NaN</td>\n",
       "      <td>79</td>\n",
       "      <td>0</td>\n",
       "      <td>1.0</td>\n",
       "      <td>0.0</td>\n",
       "      <td>-122.41</td>\n",
       "      <td>4</td>\n",
       "      <td>0</td>\n",
       "      <td>10000</td>\n",
       "      <td>3</td>\n",
       "    </tr>\n",
       "    <tr>\n",
       "      <th>4</th>\n",
       "      <td>NaN</td>\n",
       "      <td>NaN</td>\n",
       "      <td>NaN</td>\n",
       "      <td>NaN</td>\n",
       "      <td>NaN</td>\n",
       "      <td>NaN</td>\n",
       "      <td>NaN</td>\n",
       "      <td>NaN</td>\n",
       "      <td>NaN</td>\n",
       "      <td>NaN</td>\n",
       "      <td>...</td>\n",
       "      <td>NaN</td>\n",
       "      <td>79</td>\n",
       "      <td>0</td>\n",
       "      <td>1.0</td>\n",
       "      <td>0.0</td>\n",
       "      <td>-122.41</td>\n",
       "      <td>5</td>\n",
       "      <td>0</td>\n",
       "      <td>10000</td>\n",
       "      <td>4</td>\n",
       "    </tr>\n",
       "    <tr>\n",
       "      <th>5</th>\n",
       "      <td>81.5</td>\n",
       "      <td>98.0</td>\n",
       "      <td>35.5</td>\n",
       "      <td>137.0</td>\n",
       "      <td>105.0</td>\n",
       "      <td>68.0</td>\n",
       "      <td>20.0</td>\n",
       "      <td>NaN</td>\n",
       "      <td>NaN</td>\n",
       "      <td>NaN</td>\n",
       "      <td>...</td>\n",
       "      <td>NaN</td>\n",
       "      <td>79</td>\n",
       "      <td>0</td>\n",
       "      <td>1.0</td>\n",
       "      <td>0.0</td>\n",
       "      <td>-122.41</td>\n",
       "      <td>6</td>\n",
       "      <td>0</td>\n",
       "      <td>10000</td>\n",
       "      <td>5</td>\n",
       "    </tr>\n",
       "    <tr>\n",
       "      <th>6</th>\n",
       "      <td>68.0</td>\n",
       "      <td>NaN</td>\n",
       "      <td>36.2</td>\n",
       "      <td>119.0</td>\n",
       "      <td>87.0</td>\n",
       "      <td>64.0</td>\n",
       "      <td>NaN</td>\n",
       "      <td>NaN</td>\n",
       "      <td>NaN</td>\n",
       "      <td>NaN</td>\n",
       "      <td>...</td>\n",
       "      <td>NaN</td>\n",
       "      <td>79</td>\n",
       "      <td>0</td>\n",
       "      <td>1.0</td>\n",
       "      <td>0.0</td>\n",
       "      <td>-122.41</td>\n",
       "      <td>7</td>\n",
       "      <td>0</td>\n",
       "      <td>10000</td>\n",
       "      <td>6</td>\n",
       "    </tr>\n",
       "  </tbody>\n",
       "</table>\n",
       "<p>7 rows × 43 columns</p>\n",
       "</div>"
      ],
      "text/plain": [
       "     HR  O2Sat  Temp    SBP    MAP   DBP  Resp  EtCO2  BaseExcess  HCO3  ...  \\\n",
       "0   NaN    NaN   NaN    NaN    NaN   NaN   NaN    NaN         NaN   NaN  ...   \n",
       "1  92.0  100.0   NaN  117.0  101.0  71.0  18.0    NaN         NaN   NaN  ...   \n",
       "2  90.0   97.5   NaN  115.0   89.0  67.0  17.5    NaN         NaN   NaN  ...   \n",
       "3  72.0   98.0   NaN  110.0   81.0  64.0  17.0    NaN         NaN   NaN  ...   \n",
       "4   NaN    NaN   NaN    NaN    NaN   NaN   NaN    NaN         NaN   NaN  ...   \n",
       "5  81.5   98.0  35.5  137.0  105.0  68.0  20.0    NaN         NaN   NaN  ...   \n",
       "6  68.0    NaN  36.2  119.0   87.0  64.0   NaN    NaN         NaN   NaN  ...   \n",
       "\n",
       "   Platelets  Age  Gender  Unit1  Unit2  HospAdmTime  ICULOS  SepsisLabel  \\\n",
       "0        NaN   79       0    1.0    0.0      -122.41       1            0   \n",
       "1        NaN   79       0    1.0    0.0      -122.41       2            0   \n",
       "2        NaN   79       0    1.0    0.0      -122.41       3            0   \n",
       "3        NaN   79       0    1.0    0.0      -122.41       4            0   \n",
       "4        NaN   79       0    1.0    0.0      -122.41       5            0   \n",
       "5        NaN   79       0    1.0    0.0      -122.41       6            0   \n",
       "6        NaN   79       0    1.0    0.0      -122.41       7            0   \n",
       "\n",
       "   Patient_id  time  \n",
       "0       10000     0  \n",
       "1       10000     1  \n",
       "2       10000     2  \n",
       "3       10000     3  \n",
       "4       10000     4  \n",
       "5       10000     5  \n",
       "6       10000     6  \n",
       "\n",
       "[7 rows x 43 columns]"
      ]
     },
     "execution_count": 7,
     "metadata": {},
     "output_type": "execute_result"
    }
   ],
   "source": [
    "df.head(7)"
   ]
  },
  {
   "cell_type": "code",
   "execution_count": 8,
   "metadata": {},
   "outputs": [
    {
     "data": {
      "text/plain": [
       "HR                   23313\n",
       "O2Sat                26927\n",
       "Temp                126037\n",
       "SBP                  26764\n",
       "MAP                  28344\n",
       "DBP                  26810\n",
       "Resp                 40187\n",
       "EtCO2               176590\n",
       "BaseExcess          191230\n",
       "HCO3                191347\n",
       "FiO2                187019\n",
       "pH                  187094\n",
       "PaCO2               187085\n",
       "SaO2                187813\n",
       "AST                 188389\n",
       "BUN                 181058\n",
       "Alkalinephos        188384\n",
       "Calcium             178335\n",
       "Chloride            190427\n",
       "Creatinine          181048\n",
       "Bilirubin_direct    191232\n",
       "Glucose             148261\n",
       "Lactate             187833\n",
       "Magnesium           182355\n",
       "Phosphate           186033\n",
       "Potassium           176592\n",
       "Bilirubin_total     188368\n",
       "TroponinI           188287\n",
       "Hct                 180461\n",
       "Hgb                 180378\n",
       "PTT                 189794\n",
       "WBC                 181582\n",
       "Fibrinogen          190577\n",
       "Platelets           181427\n",
       "Age                      0\n",
       "Gender                   0\n",
       "Unit1                56958\n",
       "Unit2                56958\n",
       "HospAdmTime              0\n",
       "ICULOS                   0\n",
       "SepsisLabel              0\n",
       "Patient_id               0\n",
       "time                     0\n",
       "dtype: int64"
      ]
     },
     "execution_count": 8,
     "metadata": {},
     "output_type": "execute_result"
    }
   ],
   "source": [
    "df.isna().sum()"
   ]
  },
  {
   "cell_type": "code",
   "execution_count": 9,
   "metadata": {},
   "outputs": [
    {
     "data": {
      "text/plain": [
       "0    188712\n",
       "1      3013\n",
       "Name: SepsisLabel, dtype: int64"
      ]
     },
     "execution_count": 9,
     "metadata": {},
     "output_type": "execute_result"
    }
   ],
   "source": [
    "df['SepsisLabel'].value_counts()"
   ]
  },
  {
   "cell_type": "code",
   "execution_count": 10,
   "metadata": {},
   "outputs": [
    {
     "data": {
      "text/plain": [
       "1    102934\n",
       "0     88791\n",
       "Name: Gender, dtype: int64"
      ]
     },
     "execution_count": 10,
     "metadata": {},
     "output_type": "execute_result"
    }
   ],
   "source": [
    "df['Gender'].value_counts()"
   ]
  },
  {
   "cell_type": "code",
   "execution_count": 11,
   "metadata": {},
   "outputs": [
    {
     "data": {
      "text/plain": [
       "HR                  float64\n",
       "O2Sat               float64\n",
       "Temp                float64\n",
       "SBP                 float64\n",
       "MAP                 float64\n",
       "DBP                 float64\n",
       "Resp                float64\n",
       "EtCO2               float64\n",
       "BaseExcess          float64\n",
       "HCO3                float64\n",
       "FiO2                float64\n",
       "pH                  float64\n",
       "PaCO2               float64\n",
       "SaO2                float64\n",
       "AST                 float64\n",
       "BUN                 float64\n",
       "Alkalinephos        float64\n",
       "Calcium             float64\n",
       "Chloride            float64\n",
       "Creatinine          float64\n",
       "Bilirubin_direct    float64\n",
       "Glucose             float64\n",
       "Lactate             float64\n",
       "Magnesium           float64\n",
       "Phosphate           float64\n",
       "Potassium           float64\n",
       "Bilirubin_total     float64\n",
       "TroponinI           float64\n",
       "Hct                 float64\n",
       "Hgb                 float64\n",
       "PTT                 float64\n",
       "WBC                 float64\n",
       "Fibrinogen          float64\n",
       "Platelets           float64\n",
       "Age                   int64\n",
       "Gender                int64\n",
       "Unit1               float64\n",
       "Unit2               float64\n",
       "HospAdmTime         float64\n",
       "ICULOS                int64\n",
       "SepsisLabel           int64\n",
       "Patient_id            int64\n",
       "time                  int64\n",
       "dtype: object"
      ]
     },
     "execution_count": 11,
     "metadata": {},
     "output_type": "execute_result"
    }
   ],
   "source": [
    "df.dtypes"
   ]
  },
  {
   "cell_type": "code",
   "execution_count": 12,
   "metadata": {},
   "outputs": [
    {
     "data": {
      "text/plain": [
       "HR                  float64\n",
       "O2Sat               float64\n",
       "Temp                float64\n",
       "SBP                 float64\n",
       "MAP                 float64\n",
       "DBP                 float64\n",
       "Resp                float64\n",
       "EtCO2               float64\n",
       "BaseExcess          float64\n",
       "HCO3                float64\n",
       "FiO2                float64\n",
       "pH                  float64\n",
       "PaCO2               float64\n",
       "SaO2                float64\n",
       "AST                 float64\n",
       "BUN                 float64\n",
       "Alkalinephos        float64\n",
       "Calcium             float64\n",
       "Chloride            float64\n",
       "Creatinine          float64\n",
       "Bilirubin_direct    float64\n",
       "Glucose             float64\n",
       "Lactate             float64\n",
       "Magnesium           float64\n",
       "Phosphate           float64\n",
       "Potassium           float64\n",
       "Bilirubin_total     float64\n",
       "TroponinI           float64\n",
       "Hct                 float64\n",
       "Hgb                 float64\n",
       "PTT                 float64\n",
       "WBC                 float64\n",
       "Fibrinogen          float64\n",
       "Platelets           float64\n",
       "Age                   int64\n",
       "Gender                int64\n",
       "Unit1               float64\n",
       "Unit2               float64\n",
       "HospAdmTime         float64\n",
       "ICULOS                int64\n",
       "SepsisLabel           int64\n",
       "Patient_id            int64\n",
       "time                  int64\n",
       "dtype: object"
      ]
     },
     "execution_count": 12,
     "metadata": {},
     "output_type": "execute_result"
    }
   ],
   "source": [
    "df.dtypes"
   ]
  },
  {
   "cell_type": "code",
   "execution_count": 13,
   "metadata": {},
   "outputs": [
    {
     "data": {
      "text/plain": [
       "(191725, 43)"
      ]
     },
     "execution_count": 13,
     "metadata": {},
     "output_type": "execute_result"
    }
   ],
   "source": [
    "df.shape"
   ]
  },
  {
   "cell_type": "code",
   "execution_count": 14,
   "metadata": {},
   "outputs": [],
   "source": [
    "df = df.fillna(df.mean())"
   ]
  },
  {
   "cell_type": "code",
   "execution_count": 15,
   "metadata": {},
   "outputs": [
    {
     "data": {
      "text/plain": [
       "HR                  0\n",
       "O2Sat               0\n",
       "Temp                0\n",
       "SBP                 0\n",
       "MAP                 0\n",
       "DBP                 0\n",
       "Resp                0\n",
       "EtCO2               0\n",
       "BaseExcess          0\n",
       "HCO3                0\n",
       "FiO2                0\n",
       "pH                  0\n",
       "PaCO2               0\n",
       "SaO2                0\n",
       "AST                 0\n",
       "BUN                 0\n",
       "Alkalinephos        0\n",
       "Calcium             0\n",
       "Chloride            0\n",
       "Creatinine          0\n",
       "Bilirubin_direct    0\n",
       "Glucose             0\n",
       "Lactate             0\n",
       "Magnesium           0\n",
       "Phosphate           0\n",
       "Potassium           0\n",
       "Bilirubin_total     0\n",
       "TroponinI           0\n",
       "Hct                 0\n",
       "Hgb                 0\n",
       "PTT                 0\n",
       "WBC                 0\n",
       "Fibrinogen          0\n",
       "Platelets           0\n",
       "Age                 0\n",
       "Gender              0\n",
       "Unit1               0\n",
       "Unit2               0\n",
       "HospAdmTime         0\n",
       "ICULOS              0\n",
       "SepsisLabel         0\n",
       "Patient_id          0\n",
       "time                0\n",
       "dtype: int64"
      ]
     },
     "execution_count": 15,
     "metadata": {},
     "output_type": "execute_result"
    }
   ],
   "source": [
    "df.isna().sum()"
   ]
  },
  {
   "cell_type": "code",
   "execution_count": 16,
   "metadata": {},
   "outputs": [
    {
     "data": {
      "text/html": [
       "<div>\n",
       "<style scoped>\n",
       "    .dataframe tbody tr th:only-of-type {\n",
       "        vertical-align: middle;\n",
       "    }\n",
       "\n",
       "    .dataframe tbody tr th {\n",
       "        vertical-align: top;\n",
       "    }\n",
       "\n",
       "    .dataframe thead th {\n",
       "        text-align: right;\n",
       "    }\n",
       "</style>\n",
       "<table border=\"1\" class=\"dataframe\">\n",
       "  <thead>\n",
       "    <tr style=\"text-align: right;\">\n",
       "      <th></th>\n",
       "      <th>HR</th>\n",
       "      <th>O2Sat</th>\n",
       "      <th>Temp</th>\n",
       "      <th>SBP</th>\n",
       "      <th>MAP</th>\n",
       "      <th>DBP</th>\n",
       "      <th>Resp</th>\n",
       "      <th>EtCO2</th>\n",
       "      <th>BaseExcess</th>\n",
       "      <th>HCO3</th>\n",
       "      <th>...</th>\n",
       "      <th>Platelets</th>\n",
       "      <th>Age</th>\n",
       "      <th>Gender</th>\n",
       "      <th>Unit1</th>\n",
       "      <th>Unit2</th>\n",
       "      <th>HospAdmTime</th>\n",
       "      <th>ICULOS</th>\n",
       "      <th>SepsisLabel</th>\n",
       "      <th>Patient_id</th>\n",
       "      <th>time</th>\n",
       "    </tr>\n",
       "  </thead>\n",
       "  <tbody>\n",
       "    <tr>\n",
       "      <th>0</th>\n",
       "      <td>84.377535</td>\n",
       "      <td>97.13357</td>\n",
       "      <td>36.935574</td>\n",
       "      <td>126.468612</td>\n",
       "      <td>86.391762</td>\n",
       "      <td>66.293484</td>\n",
       "      <td>18.695337</td>\n",
       "      <td>32.608622</td>\n",
       "      <td>-2.254343</td>\n",
       "      <td>23.57037</td>\n",
       "      <td>...</td>\n",
       "      <td>190.611381</td>\n",
       "      <td>79</td>\n",
       "      <td>0</td>\n",
       "      <td>1.0</td>\n",
       "      <td>0.0</td>\n",
       "      <td>-122.41</td>\n",
       "      <td>1</td>\n",
       "      <td>0</td>\n",
       "      <td>10000</td>\n",
       "      <td>0</td>\n",
       "    </tr>\n",
       "    <tr>\n",
       "      <th>1</th>\n",
       "      <td>92.000000</td>\n",
       "      <td>100.00000</td>\n",
       "      <td>36.935574</td>\n",
       "      <td>117.000000</td>\n",
       "      <td>101.000000</td>\n",
       "      <td>71.000000</td>\n",
       "      <td>18.000000</td>\n",
       "      <td>32.608622</td>\n",
       "      <td>-2.254343</td>\n",
       "      <td>23.57037</td>\n",
       "      <td>...</td>\n",
       "      <td>190.611381</td>\n",
       "      <td>79</td>\n",
       "      <td>0</td>\n",
       "      <td>1.0</td>\n",
       "      <td>0.0</td>\n",
       "      <td>-122.41</td>\n",
       "      <td>2</td>\n",
       "      <td>0</td>\n",
       "      <td>10000</td>\n",
       "      <td>1</td>\n",
       "    </tr>\n",
       "    <tr>\n",
       "      <th>2</th>\n",
       "      <td>90.000000</td>\n",
       "      <td>97.50000</td>\n",
       "      <td>36.935574</td>\n",
       "      <td>115.000000</td>\n",
       "      <td>89.000000</td>\n",
       "      <td>67.000000</td>\n",
       "      <td>17.500000</td>\n",
       "      <td>32.608622</td>\n",
       "      <td>-2.254343</td>\n",
       "      <td>23.57037</td>\n",
       "      <td>...</td>\n",
       "      <td>190.611381</td>\n",
       "      <td>79</td>\n",
       "      <td>0</td>\n",
       "      <td>1.0</td>\n",
       "      <td>0.0</td>\n",
       "      <td>-122.41</td>\n",
       "      <td>3</td>\n",
       "      <td>0</td>\n",
       "      <td>10000</td>\n",
       "      <td>2</td>\n",
       "    </tr>\n",
       "    <tr>\n",
       "      <th>3</th>\n",
       "      <td>72.000000</td>\n",
       "      <td>98.00000</td>\n",
       "      <td>36.935574</td>\n",
       "      <td>110.000000</td>\n",
       "      <td>81.000000</td>\n",
       "      <td>64.000000</td>\n",
       "      <td>17.000000</td>\n",
       "      <td>32.608622</td>\n",
       "      <td>-2.254343</td>\n",
       "      <td>23.57037</td>\n",
       "      <td>...</td>\n",
       "      <td>190.611381</td>\n",
       "      <td>79</td>\n",
       "      <td>0</td>\n",
       "      <td>1.0</td>\n",
       "      <td>0.0</td>\n",
       "      <td>-122.41</td>\n",
       "      <td>4</td>\n",
       "      <td>0</td>\n",
       "      <td>10000</td>\n",
       "      <td>3</td>\n",
       "    </tr>\n",
       "    <tr>\n",
       "      <th>4</th>\n",
       "      <td>84.377535</td>\n",
       "      <td>97.13357</td>\n",
       "      <td>36.935574</td>\n",
       "      <td>126.468612</td>\n",
       "      <td>86.391762</td>\n",
       "      <td>66.293484</td>\n",
       "      <td>18.695337</td>\n",
       "      <td>32.608622</td>\n",
       "      <td>-2.254343</td>\n",
       "      <td>23.57037</td>\n",
       "      <td>...</td>\n",
       "      <td>190.611381</td>\n",
       "      <td>79</td>\n",
       "      <td>0</td>\n",
       "      <td>1.0</td>\n",
       "      <td>0.0</td>\n",
       "      <td>-122.41</td>\n",
       "      <td>5</td>\n",
       "      <td>0</td>\n",
       "      <td>10000</td>\n",
       "      <td>4</td>\n",
       "    </tr>\n",
       "  </tbody>\n",
       "</table>\n",
       "<p>5 rows × 43 columns</p>\n",
       "</div>"
      ],
      "text/plain": [
       "          HR      O2Sat       Temp         SBP         MAP        DBP  \\\n",
       "0  84.377535   97.13357  36.935574  126.468612   86.391762  66.293484   \n",
       "1  92.000000  100.00000  36.935574  117.000000  101.000000  71.000000   \n",
       "2  90.000000   97.50000  36.935574  115.000000   89.000000  67.000000   \n",
       "3  72.000000   98.00000  36.935574  110.000000   81.000000  64.000000   \n",
       "4  84.377535   97.13357  36.935574  126.468612   86.391762  66.293484   \n",
       "\n",
       "        Resp      EtCO2  BaseExcess      HCO3  ...   Platelets  Age  Gender  \\\n",
       "0  18.695337  32.608622   -2.254343  23.57037  ...  190.611381   79       0   \n",
       "1  18.000000  32.608622   -2.254343  23.57037  ...  190.611381   79       0   \n",
       "2  17.500000  32.608622   -2.254343  23.57037  ...  190.611381   79       0   \n",
       "3  17.000000  32.608622   -2.254343  23.57037  ...  190.611381   79       0   \n",
       "4  18.695337  32.608622   -2.254343  23.57037  ...  190.611381   79       0   \n",
       "\n",
       "   Unit1  Unit2  HospAdmTime  ICULOS  SepsisLabel  Patient_id  time  \n",
       "0    1.0    0.0      -122.41       1            0       10000     0  \n",
       "1    1.0    0.0      -122.41       2            0       10000     1  \n",
       "2    1.0    0.0      -122.41       3            0       10000     2  \n",
       "3    1.0    0.0      -122.41       4            0       10000     3  \n",
       "4    1.0    0.0      -122.41       5            0       10000     4  \n",
       "\n",
       "[5 rows x 43 columns]"
      ]
     },
     "execution_count": 16,
     "metadata": {},
     "output_type": "execute_result"
    }
   ],
   "source": [
    "df.head()"
   ]
  },
  {
   "cell_type": "code",
   "execution_count": 17,
   "metadata": {},
   "outputs": [],
   "source": [
    "df = df.drop(['Patient_id'], axis = 1)"
   ]
  },
  {
   "cell_type": "code",
   "execution_count": 18,
   "metadata": {},
   "outputs": [
    {
     "data": {
      "text/html": [
       "<div>\n",
       "<style scoped>\n",
       "    .dataframe tbody tr th:only-of-type {\n",
       "        vertical-align: middle;\n",
       "    }\n",
       "\n",
       "    .dataframe tbody tr th {\n",
       "        vertical-align: top;\n",
       "    }\n",
       "\n",
       "    .dataframe thead th {\n",
       "        text-align: right;\n",
       "    }\n",
       "</style>\n",
       "<table border=\"1\" class=\"dataframe\">\n",
       "  <thead>\n",
       "    <tr style=\"text-align: right;\">\n",
       "      <th></th>\n",
       "      <th>HR</th>\n",
       "      <th>O2Sat</th>\n",
       "      <th>Temp</th>\n",
       "      <th>SBP</th>\n",
       "      <th>MAP</th>\n",
       "      <th>DBP</th>\n",
       "      <th>Resp</th>\n",
       "      <th>EtCO2</th>\n",
       "      <th>BaseExcess</th>\n",
       "      <th>HCO3</th>\n",
       "      <th>...</th>\n",
       "      <th>Fibrinogen</th>\n",
       "      <th>Platelets</th>\n",
       "      <th>Age</th>\n",
       "      <th>Gender</th>\n",
       "      <th>Unit1</th>\n",
       "      <th>Unit2</th>\n",
       "      <th>HospAdmTime</th>\n",
       "      <th>ICULOS</th>\n",
       "      <th>SepsisLabel</th>\n",
       "      <th>time</th>\n",
       "    </tr>\n",
       "  </thead>\n",
       "  <tbody>\n",
       "    <tr>\n",
       "      <th>0</th>\n",
       "      <td>84.377535</td>\n",
       "      <td>97.13357</td>\n",
       "      <td>36.935574</td>\n",
       "      <td>126.468612</td>\n",
       "      <td>86.391762</td>\n",
       "      <td>66.293484</td>\n",
       "      <td>18.695337</td>\n",
       "      <td>32.608622</td>\n",
       "      <td>-2.254343</td>\n",
       "      <td>23.57037</td>\n",
       "      <td>...</td>\n",
       "      <td>272.499564</td>\n",
       "      <td>190.611381</td>\n",
       "      <td>79</td>\n",
       "      <td>0</td>\n",
       "      <td>1.0</td>\n",
       "      <td>0.0</td>\n",
       "      <td>-122.41</td>\n",
       "      <td>1</td>\n",
       "      <td>0</td>\n",
       "      <td>0</td>\n",
       "    </tr>\n",
       "    <tr>\n",
       "      <th>1</th>\n",
       "      <td>92.000000</td>\n",
       "      <td>100.00000</td>\n",
       "      <td>36.935574</td>\n",
       "      <td>117.000000</td>\n",
       "      <td>101.000000</td>\n",
       "      <td>71.000000</td>\n",
       "      <td>18.000000</td>\n",
       "      <td>32.608622</td>\n",
       "      <td>-2.254343</td>\n",
       "      <td>23.57037</td>\n",
       "      <td>...</td>\n",
       "      <td>272.499564</td>\n",
       "      <td>190.611381</td>\n",
       "      <td>79</td>\n",
       "      <td>0</td>\n",
       "      <td>1.0</td>\n",
       "      <td>0.0</td>\n",
       "      <td>-122.41</td>\n",
       "      <td>2</td>\n",
       "      <td>0</td>\n",
       "      <td>1</td>\n",
       "    </tr>\n",
       "    <tr>\n",
       "      <th>2</th>\n",
       "      <td>90.000000</td>\n",
       "      <td>97.50000</td>\n",
       "      <td>36.935574</td>\n",
       "      <td>115.000000</td>\n",
       "      <td>89.000000</td>\n",
       "      <td>67.000000</td>\n",
       "      <td>17.500000</td>\n",
       "      <td>32.608622</td>\n",
       "      <td>-2.254343</td>\n",
       "      <td>23.57037</td>\n",
       "      <td>...</td>\n",
       "      <td>272.499564</td>\n",
       "      <td>190.611381</td>\n",
       "      <td>79</td>\n",
       "      <td>0</td>\n",
       "      <td>1.0</td>\n",
       "      <td>0.0</td>\n",
       "      <td>-122.41</td>\n",
       "      <td>3</td>\n",
       "      <td>0</td>\n",
       "      <td>2</td>\n",
       "    </tr>\n",
       "    <tr>\n",
       "      <th>3</th>\n",
       "      <td>72.000000</td>\n",
       "      <td>98.00000</td>\n",
       "      <td>36.935574</td>\n",
       "      <td>110.000000</td>\n",
       "      <td>81.000000</td>\n",
       "      <td>64.000000</td>\n",
       "      <td>17.000000</td>\n",
       "      <td>32.608622</td>\n",
       "      <td>-2.254343</td>\n",
       "      <td>23.57037</td>\n",
       "      <td>...</td>\n",
       "      <td>272.499564</td>\n",
       "      <td>190.611381</td>\n",
       "      <td>79</td>\n",
       "      <td>0</td>\n",
       "      <td>1.0</td>\n",
       "      <td>0.0</td>\n",
       "      <td>-122.41</td>\n",
       "      <td>4</td>\n",
       "      <td>0</td>\n",
       "      <td>3</td>\n",
       "    </tr>\n",
       "    <tr>\n",
       "      <th>4</th>\n",
       "      <td>84.377535</td>\n",
       "      <td>97.13357</td>\n",
       "      <td>36.935574</td>\n",
       "      <td>126.468612</td>\n",
       "      <td>86.391762</td>\n",
       "      <td>66.293484</td>\n",
       "      <td>18.695337</td>\n",
       "      <td>32.608622</td>\n",
       "      <td>-2.254343</td>\n",
       "      <td>23.57037</td>\n",
       "      <td>...</td>\n",
       "      <td>272.499564</td>\n",
       "      <td>190.611381</td>\n",
       "      <td>79</td>\n",
       "      <td>0</td>\n",
       "      <td>1.0</td>\n",
       "      <td>0.0</td>\n",
       "      <td>-122.41</td>\n",
       "      <td>5</td>\n",
       "      <td>0</td>\n",
       "      <td>4</td>\n",
       "    </tr>\n",
       "  </tbody>\n",
       "</table>\n",
       "<p>5 rows × 42 columns</p>\n",
       "</div>"
      ],
      "text/plain": [
       "          HR      O2Sat       Temp         SBP         MAP        DBP  \\\n",
       "0  84.377535   97.13357  36.935574  126.468612   86.391762  66.293484   \n",
       "1  92.000000  100.00000  36.935574  117.000000  101.000000  71.000000   \n",
       "2  90.000000   97.50000  36.935574  115.000000   89.000000  67.000000   \n",
       "3  72.000000   98.00000  36.935574  110.000000   81.000000  64.000000   \n",
       "4  84.377535   97.13357  36.935574  126.468612   86.391762  66.293484   \n",
       "\n",
       "        Resp      EtCO2  BaseExcess      HCO3  ...  Fibrinogen   Platelets  \\\n",
       "0  18.695337  32.608622   -2.254343  23.57037  ...  272.499564  190.611381   \n",
       "1  18.000000  32.608622   -2.254343  23.57037  ...  272.499564  190.611381   \n",
       "2  17.500000  32.608622   -2.254343  23.57037  ...  272.499564  190.611381   \n",
       "3  17.000000  32.608622   -2.254343  23.57037  ...  272.499564  190.611381   \n",
       "4  18.695337  32.608622   -2.254343  23.57037  ...  272.499564  190.611381   \n",
       "\n",
       "   Age  Gender  Unit1  Unit2  HospAdmTime  ICULOS  SepsisLabel  time  \n",
       "0   79       0    1.0    0.0      -122.41       1            0     0  \n",
       "1   79       0    1.0    0.0      -122.41       2            0     1  \n",
       "2   79       0    1.0    0.0      -122.41       3            0     2  \n",
       "3   79       0    1.0    0.0      -122.41       4            0     3  \n",
       "4   79       0    1.0    0.0      -122.41       5            0     4  \n",
       "\n",
       "[5 rows x 42 columns]"
      ]
     },
     "execution_count": 18,
     "metadata": {},
     "output_type": "execute_result"
    }
   ],
   "source": [
    "df.head()"
   ]
  },
  {
   "cell_type": "code",
   "execution_count": 16,
   "metadata": {},
   "outputs": [],
   "source": [
    "df = df.drop(['Age'], axis = 1)"
   ]
  },
  {
   "cell_type": "code",
   "execution_count": 17,
   "metadata": {},
   "outputs": [],
   "source": [
    "df = df.drop(['Gender'], axis = 1)"
   ]
  },
  {
   "cell_type": "code",
   "execution_count": 18,
   "metadata": {},
   "outputs": [
    {
     "data": {
      "text/plain": [
       "(191725, 40)"
      ]
     },
     "execution_count": 18,
     "metadata": {},
     "output_type": "execute_result"
    }
   ],
   "source": [
    "df.shape"
   ]
  },
  {
   "cell_type": "code",
   "execution_count": 19,
   "metadata": {},
   "outputs": [
    {
     "data": {
      "text/plain": [
       "0    188712\n",
       "1      3013\n",
       "Name: SepsisLabel, dtype: int64"
      ]
     },
     "execution_count": 19,
     "metadata": {},
     "output_type": "execute_result"
    }
   ],
   "source": [
    "df['SepsisLabel'].value_counts()"
   ]
  },
  {
   "cell_type": "code",
   "execution_count": 20,
   "metadata": {},
   "outputs": [
    {
     "data": {
      "text/html": [
       "<div>\n",
       "<style scoped>\n",
       "    .dataframe tbody tr th:only-of-type {\n",
       "        vertical-align: middle;\n",
       "    }\n",
       "\n",
       "    .dataframe tbody tr th {\n",
       "        vertical-align: top;\n",
       "    }\n",
       "\n",
       "    .dataframe thead th {\n",
       "        text-align: right;\n",
       "    }\n",
       "</style>\n",
       "<table border=\"1\" class=\"dataframe\">\n",
       "  <thead>\n",
       "    <tr style=\"text-align: right;\">\n",
       "      <th></th>\n",
       "      <th>HR</th>\n",
       "      <th>O2Sat</th>\n",
       "      <th>Temp</th>\n",
       "      <th>SBP</th>\n",
       "      <th>MAP</th>\n",
       "      <th>DBP</th>\n",
       "      <th>Resp</th>\n",
       "      <th>EtCO2</th>\n",
       "      <th>BaseExcess</th>\n",
       "      <th>HCO3</th>\n",
       "      <th>...</th>\n",
       "      <th>PTT</th>\n",
       "      <th>WBC</th>\n",
       "      <th>Fibrinogen</th>\n",
       "      <th>Platelets</th>\n",
       "      <th>Unit1</th>\n",
       "      <th>Unit2</th>\n",
       "      <th>HospAdmTime</th>\n",
       "      <th>ICULOS</th>\n",
       "      <th>SepsisLabel</th>\n",
       "      <th>time</th>\n",
       "    </tr>\n",
       "  </thead>\n",
       "  <tbody>\n",
       "    <tr>\n",
       "      <td>0</td>\n",
       "      <td>84.377535</td>\n",
       "      <td>97.13357</td>\n",
       "      <td>36.935574</td>\n",
       "      <td>126.468612</td>\n",
       "      <td>86.391762</td>\n",
       "      <td>66.293484</td>\n",
       "      <td>18.695337</td>\n",
       "      <td>32.608622</td>\n",
       "      <td>-2.254343</td>\n",
       "      <td>23.57037</td>\n",
       "      <td>...</td>\n",
       "      <td>44.047048</td>\n",
       "      <td>10.745695</td>\n",
       "      <td>272.499564</td>\n",
       "      <td>190.611381</td>\n",
       "      <td>1.0</td>\n",
       "      <td>0.0</td>\n",
       "      <td>-122.41</td>\n",
       "      <td>1</td>\n",
       "      <td>0</td>\n",
       "      <td>0</td>\n",
       "    </tr>\n",
       "    <tr>\n",
       "      <td>1</td>\n",
       "      <td>92.000000</td>\n",
       "      <td>100.00000</td>\n",
       "      <td>36.935574</td>\n",
       "      <td>117.000000</td>\n",
       "      <td>101.000000</td>\n",
       "      <td>71.000000</td>\n",
       "      <td>18.000000</td>\n",
       "      <td>32.608622</td>\n",
       "      <td>-2.254343</td>\n",
       "      <td>23.57037</td>\n",
       "      <td>...</td>\n",
       "      <td>44.047048</td>\n",
       "      <td>10.745695</td>\n",
       "      <td>272.499564</td>\n",
       "      <td>190.611381</td>\n",
       "      <td>1.0</td>\n",
       "      <td>0.0</td>\n",
       "      <td>-122.41</td>\n",
       "      <td>2</td>\n",
       "      <td>0</td>\n",
       "      <td>1</td>\n",
       "    </tr>\n",
       "    <tr>\n",
       "      <td>2</td>\n",
       "      <td>90.000000</td>\n",
       "      <td>97.50000</td>\n",
       "      <td>36.935574</td>\n",
       "      <td>115.000000</td>\n",
       "      <td>89.000000</td>\n",
       "      <td>67.000000</td>\n",
       "      <td>17.500000</td>\n",
       "      <td>32.608622</td>\n",
       "      <td>-2.254343</td>\n",
       "      <td>23.57037</td>\n",
       "      <td>...</td>\n",
       "      <td>44.047048</td>\n",
       "      <td>10.745695</td>\n",
       "      <td>272.499564</td>\n",
       "      <td>190.611381</td>\n",
       "      <td>1.0</td>\n",
       "      <td>0.0</td>\n",
       "      <td>-122.41</td>\n",
       "      <td>3</td>\n",
       "      <td>0</td>\n",
       "      <td>2</td>\n",
       "    </tr>\n",
       "    <tr>\n",
       "      <td>3</td>\n",
       "      <td>72.000000</td>\n",
       "      <td>98.00000</td>\n",
       "      <td>36.935574</td>\n",
       "      <td>110.000000</td>\n",
       "      <td>81.000000</td>\n",
       "      <td>64.000000</td>\n",
       "      <td>17.000000</td>\n",
       "      <td>32.608622</td>\n",
       "      <td>-2.254343</td>\n",
       "      <td>23.57037</td>\n",
       "      <td>...</td>\n",
       "      <td>44.047048</td>\n",
       "      <td>10.745695</td>\n",
       "      <td>272.499564</td>\n",
       "      <td>190.611381</td>\n",
       "      <td>1.0</td>\n",
       "      <td>0.0</td>\n",
       "      <td>-122.41</td>\n",
       "      <td>4</td>\n",
       "      <td>0</td>\n",
       "      <td>3</td>\n",
       "    </tr>\n",
       "    <tr>\n",
       "      <td>4</td>\n",
       "      <td>84.377535</td>\n",
       "      <td>97.13357</td>\n",
       "      <td>36.935574</td>\n",
       "      <td>126.468612</td>\n",
       "      <td>86.391762</td>\n",
       "      <td>66.293484</td>\n",
       "      <td>18.695337</td>\n",
       "      <td>32.608622</td>\n",
       "      <td>-2.254343</td>\n",
       "      <td>23.57037</td>\n",
       "      <td>...</td>\n",
       "      <td>44.047048</td>\n",
       "      <td>10.745695</td>\n",
       "      <td>272.499564</td>\n",
       "      <td>190.611381</td>\n",
       "      <td>1.0</td>\n",
       "      <td>0.0</td>\n",
       "      <td>-122.41</td>\n",
       "      <td>5</td>\n",
       "      <td>0</td>\n",
       "      <td>4</td>\n",
       "    </tr>\n",
       "  </tbody>\n",
       "</table>\n",
       "<p>5 rows × 40 columns</p>\n",
       "</div>"
      ],
      "text/plain": [
       "          HR      O2Sat       Temp         SBP         MAP        DBP  \\\n",
       "0  84.377535   97.13357  36.935574  126.468612   86.391762  66.293484   \n",
       "1  92.000000  100.00000  36.935574  117.000000  101.000000  71.000000   \n",
       "2  90.000000   97.50000  36.935574  115.000000   89.000000  67.000000   \n",
       "3  72.000000   98.00000  36.935574  110.000000   81.000000  64.000000   \n",
       "4  84.377535   97.13357  36.935574  126.468612   86.391762  66.293484   \n",
       "\n",
       "        Resp      EtCO2  BaseExcess      HCO3  ...        PTT        WBC  \\\n",
       "0  18.695337  32.608622   -2.254343  23.57037  ...  44.047048  10.745695   \n",
       "1  18.000000  32.608622   -2.254343  23.57037  ...  44.047048  10.745695   \n",
       "2  17.500000  32.608622   -2.254343  23.57037  ...  44.047048  10.745695   \n",
       "3  17.000000  32.608622   -2.254343  23.57037  ...  44.047048  10.745695   \n",
       "4  18.695337  32.608622   -2.254343  23.57037  ...  44.047048  10.745695   \n",
       "\n",
       "   Fibrinogen   Platelets  Unit1  Unit2  HospAdmTime  ICULOS  SepsisLabel  \\\n",
       "0  272.499564  190.611381    1.0    0.0      -122.41       1            0   \n",
       "1  272.499564  190.611381    1.0    0.0      -122.41       2            0   \n",
       "2  272.499564  190.611381    1.0    0.0      -122.41       3            0   \n",
       "3  272.499564  190.611381    1.0    0.0      -122.41       4            0   \n",
       "4  272.499564  190.611381    1.0    0.0      -122.41       5            0   \n",
       "\n",
       "   time  \n",
       "0     0  \n",
       "1     1  \n",
       "2     2  \n",
       "3     3  \n",
       "4     4  \n",
       "\n",
       "[5 rows x 40 columns]"
      ]
     },
     "execution_count": 20,
     "metadata": {},
     "output_type": "execute_result"
    }
   ],
   "source": [
    "df.head()"
   ]
  },
  {
   "cell_type": "code",
   "execution_count": 21,
   "metadata": {},
   "outputs": [
    {
     "data": {
      "text/plain": [
       "<matplotlib.axes._subplots.AxesSubplot at 0x7f2347735190>"
      ]
     },
     "execution_count": 21,
     "metadata": {},
     "output_type": "execute_result"
    },
    {
     "data": {
      "image/png": "[encoded data removed]",
      "text/plain": [
       "<Figure size 432x288 with 1 Axes>"
      ]
     },
     "metadata": {
      "needs_background": "light"
     },
     "output_type": "display_data"
    }
   ],
   "source": [
    "sns.countplot(df['SepsisLabel'], label = 'count')"
   ]
  },
  {
   "cell_type": "code",
   "execution_count": 24,
   "metadata": {},
   "outputs": [],
   "source": [
    "X = df.iloc[:, 0:38]"
   ]
  },
  {
   "cell_type": "code",
   "execution_count": 25,
   "metadata": {},
   "outputs": [
    {
     "data": {
      "text/html": [
       "<div>\n",
       "<style scoped>\n",
       "    .dataframe tbody tr th:only-of-type {\n",
       "        vertical-align: middle;\n",
       "    }\n",
       "\n",
       "    .dataframe tbody tr th {\n",
       "        vertical-align: top;\n",
       "    }\n",
       "\n",
       "    .dataframe thead th {\n",
       "        text-align: right;\n",
       "    }\n",
       "</style>\n",
       "<table border=\"1\" class=\"dataframe\">\n",
       "  <thead>\n",
       "    <tr style=\"text-align: right;\">\n",
       "      <th></th>\n",
       "      <th>HR</th>\n",
       "      <th>O2Sat</th>\n",
       "      <th>Temp</th>\n",
       "      <th>SBP</th>\n",
       "      <th>MAP</th>\n",
       "      <th>DBP</th>\n",
       "      <th>Resp</th>\n",
       "      <th>EtCO2</th>\n",
       "      <th>BaseExcess</th>\n",
       "      <th>HCO3</th>\n",
       "      <th>...</th>\n",
       "      <th>Hct</th>\n",
       "      <th>Hgb</th>\n",
       "      <th>PTT</th>\n",
       "      <th>WBC</th>\n",
       "      <th>Fibrinogen</th>\n",
       "      <th>Platelets</th>\n",
       "      <th>Unit1</th>\n",
       "      <th>Unit2</th>\n",
       "      <th>HospAdmTime</th>\n",
       "      <th>ICULOS</th>\n",
       "    </tr>\n",
       "  </thead>\n",
       "  <tbody>\n",
       "    <tr>\n",
       "      <td>0</td>\n",
       "      <td>84.377535</td>\n",
       "      <td>97.13357</td>\n",
       "      <td>36.935574</td>\n",
       "      <td>126.468612</td>\n",
       "      <td>86.391762</td>\n",
       "      <td>66.293484</td>\n",
       "      <td>18.695337</td>\n",
       "      <td>32.608622</td>\n",
       "      <td>-2.254343</td>\n",
       "      <td>23.57037</td>\n",
       "      <td>...</td>\n",
       "      <td>30.960502</td>\n",
       "      <td>10.159064</td>\n",
       "      <td>44.047048</td>\n",
       "      <td>10.745695</td>\n",
       "      <td>272.499564</td>\n",
       "      <td>190.611381</td>\n",
       "      <td>1.0</td>\n",
       "      <td>0.0</td>\n",
       "      <td>-122.41</td>\n",
       "      <td>1</td>\n",
       "    </tr>\n",
       "    <tr>\n",
       "      <td>1</td>\n",
       "      <td>92.000000</td>\n",
       "      <td>100.00000</td>\n",
       "      <td>36.935574</td>\n",
       "      <td>117.000000</td>\n",
       "      <td>101.000000</td>\n",
       "      <td>71.000000</td>\n",
       "      <td>18.000000</td>\n",
       "      <td>32.608622</td>\n",
       "      <td>-2.254343</td>\n",
       "      <td>23.57037</td>\n",
       "      <td>...</td>\n",
       "      <td>30.960502</td>\n",
       "      <td>10.159064</td>\n",
       "      <td>44.047048</td>\n",
       "      <td>10.745695</td>\n",
       "      <td>272.499564</td>\n",
       "      <td>190.611381</td>\n",
       "      <td>1.0</td>\n",
       "      <td>0.0</td>\n",
       "      <td>-122.41</td>\n",
       "      <td>2</td>\n",
       "    </tr>\n",
       "    <tr>\n",
       "      <td>2</td>\n",
       "      <td>90.000000</td>\n",
       "      <td>97.50000</td>\n",
       "      <td>36.935574</td>\n",
       "      <td>115.000000</td>\n",
       "      <td>89.000000</td>\n",
       "      <td>67.000000</td>\n",
       "      <td>17.500000</td>\n",
       "      <td>32.608622</td>\n",
       "      <td>-2.254343</td>\n",
       "      <td>23.57037</td>\n",
       "      <td>...</td>\n",
       "      <td>30.960502</td>\n",
       "      <td>10.159064</td>\n",
       "      <td>44.047048</td>\n",
       "      <td>10.745695</td>\n",
       "      <td>272.499564</td>\n",
       "      <td>190.611381</td>\n",
       "      <td>1.0</td>\n",
       "      <td>0.0</td>\n",
       "      <td>-122.41</td>\n",
       "      <td>3</td>\n",
       "    </tr>\n",
       "    <tr>\n",
       "      <td>3</td>\n",
       "      <td>72.000000</td>\n",
       "      <td>98.00000</td>\n",
       "      <td>36.935574</td>\n",
       "      <td>110.000000</td>\n",
       "      <td>81.000000</td>\n",
       "      <td>64.000000</td>\n",
       "      <td>17.000000</td>\n",
       "      <td>32.608622</td>\n",
       "      <td>-2.254343</td>\n",
       "      <td>23.57037</td>\n",
       "      <td>...</td>\n",
       "      <td>30.960502</td>\n",
       "      <td>10.159064</td>\n",
       "      <td>44.047048</td>\n",
       "      <td>10.745695</td>\n",
       "      <td>272.499564</td>\n",
       "      <td>190.611381</td>\n",
       "      <td>1.0</td>\n",
       "      <td>0.0</td>\n",
       "      <td>-122.41</td>\n",
       "      <td>4</td>\n",
       "    </tr>\n",
       "    <tr>\n",
       "      <td>4</td>\n",
       "      <td>84.377535</td>\n",
       "      <td>97.13357</td>\n",
       "      <td>36.935574</td>\n",
       "      <td>126.468612</td>\n",
       "      <td>86.391762</td>\n",
       "      <td>66.293484</td>\n",
       "      <td>18.695337</td>\n",
       "      <td>32.608622</td>\n",
       "      <td>-2.254343</td>\n",
       "      <td>23.57037</td>\n",
       "      <td>...</td>\n",
       "      <td>30.960502</td>\n",
       "      <td>10.159064</td>\n",
       "      <td>44.047048</td>\n",
       "      <td>10.745695</td>\n",
       "      <td>272.499564</td>\n",
       "      <td>190.611381</td>\n",
       "      <td>1.0</td>\n",
       "      <td>0.0</td>\n",
       "      <td>-122.41</td>\n",
       "      <td>5</td>\n",
       "    </tr>\n",
       "  </tbody>\n",
       "</table>\n",
       "<p>5 rows × 38 columns</p>\n",
       "</div>"
      ],
      "text/plain": [
       "          HR      O2Sat       Temp         SBP         MAP        DBP  \\\n",
       "0  84.377535   97.13357  36.935574  126.468612   86.391762  66.293484   \n",
       "1  92.000000  100.00000  36.935574  117.000000  101.000000  71.000000   \n",
       "2  90.000000   97.50000  36.935574  115.000000   89.000000  67.000000   \n",
       "3  72.000000   98.00000  36.935574  110.000000   81.000000  64.000000   \n",
       "4  84.377535   97.13357  36.935574  126.468612   86.391762  66.293484   \n",
       "\n",
       "        Resp      EtCO2  BaseExcess      HCO3  ...        Hct        Hgb  \\\n",
       "0  18.695337  32.608622   -2.254343  23.57037  ...  30.960502  10.159064   \n",
       "1  18.000000  32.608622   -2.254343  23.57037  ...  30.960502  10.159064   \n",
       "2  17.500000  32.608622   -2.254343  23.57037  ...  30.960502  10.159064   \n",
       "3  17.000000  32.608622   -2.254343  23.57037  ...  30.960502  10.159064   \n",
       "4  18.695337  32.608622   -2.254343  23.57037  ...  30.960502  10.159064   \n",
       "\n",
       "         PTT        WBC  Fibrinogen   Platelets  Unit1  Unit2  HospAdmTime  \\\n",
       "0  44.047048  10.745695  272.499564  190.611381    1.0    0.0      -122.41   \n",
       "1  44.047048  10.745695  272.499564  190.611381    1.0    0.0      -122.41   \n",
       "2  44.047048  10.745695  272.499564  190.611381    1.0    0.0      -122.41   \n",
       "3  44.047048  10.745695  272.499564  190.611381    1.0    0.0      -122.41   \n",
       "4  44.047048  10.745695  272.499564  190.611381    1.0    0.0      -122.41   \n",
       "\n",
       "   ICULOS  \n",
       "0       1  \n",
       "1       2  \n",
       "2       3  \n",
       "3       4  \n",
       "4       5  \n",
       "\n",
       "[5 rows x 38 columns]"
      ]
     },
     "execution_count": 25,
     "metadata": {},
     "output_type": "execute_result"
    }
   ],
   "source": [
    "X.head()"
   ]
  },
  {
   "cell_type": "code",
   "execution_count": 28,
   "metadata": {},
   "outputs": [],
   "source": [
    "Y = df.iloc[:, 38]"
   ]
  },
  {
   "cell_type": "code",
   "execution_count": 29,
   "metadata": {},
   "outputs": [
    {
     "data": {
      "text/plain": [
       "0    0\n",
       "1    0\n",
       "2    0\n",
       "3    0\n",
       "4    0\n",
       "Name: SepsisLabel, dtype: int64"
      ]
     },
     "execution_count": 29,
     "metadata": {},
     "output_type": "execute_result"
    }
   ],
   "source": [
    "Y.head()"
   ]
  },
  {
   "cell_type": "code",
   "execution_count": 30,
   "metadata": {},
   "outputs": [],
   "source": [
    "from sklearn.model_selection import train_test_split"
   ]
  },
  {
   "cell_type": "code",
   "execution_count": 31,
   "metadata": {},
   "outputs": [],
   "source": [
    "X_train, X_test, Y_train, Y_test = train_test_split(X,Y,test_size=0.25)"
   ]
  },
  {
   "cell_type": "code",
   "execution_count": 36,
   "metadata": {},
   "outputs": [],
   "source": [
    "from sklearn.preprocessing import StandardScaler"
   ]
  },
  {
   "cell_type": "code",
   "execution_count": 37,
   "metadata": {},
   "outputs": [],
   "source": [
    "sc = StandardScaler()"
   ]
  },
  {
   "cell_type": "code",
   "execution_count": 38,
   "metadata": {},
   "outputs": [],
   "source": [
    "X_train = sc.fit_transform(X_train)"
   ]
  },
  {
   "cell_type": "code",
   "execution_count": 39,
   "metadata": {},
   "outputs": [],
   "source": [
    "X_test = sc.fit_transform(X_test)"
   ]
  },
  {
   "cell_type": "code",
   "execution_count": 40,
   "metadata": {},
   "outputs": [],
   "source": [
    "from sklearn.linear_model import LogisticRegression"
   ]
  },
  {
   "cell_type": "code",
   "execution_count": 41,
   "metadata": {},
   "outputs": [],
   "source": [
    "log = LogisticRegression(random_state=0)"
   ]
  },
  {
   "cell_type": "code",
   "execution_count": 42,
   "metadata": {},
   "outputs": [
    {
     "name": "stderr",
     "output_type": "stream",
     "text": [
      "/home/abhishek/yes/lib/python3.7/site-packages/sklearn/linear_model/logistic.py:432: FutureWarning: Default solver will be changed to 'lbfgs' in 0.22. Specify a solver to silence this warning.\n",
      "  FutureWarning)\n"
     ]
    },
    {
     "data": {
      "text/plain": [
       "LogisticRegression(C=1.0, class_weight=None, dual=False, fit_intercept=True,\n",
       "                   intercept_scaling=1, l1_ratio=None, max_iter=100,\n",
       "                   multi_class='warn', n_jobs=None, penalty='l2',\n",
       "                   random_state=0, solver='warn', tol=0.0001, verbose=0,\n",
       "                   warm_start=False)"
      ]
     },
     "execution_count": 42,
     "metadata": {},
     "output_type": "execute_result"
    }
   ],
   "source": [
    "log.fit(X_train, Y_train)"
   ]
  },
  {
   "cell_type": "code",
   "execution_count": 43,
   "metadata": {},
   "outputs": [],
   "source": [
    "from sklearn.neighbors import KNeighborsClassifier"
   ]
  },
  {
   "cell_type": "code",
   "execution_count": 44,
   "metadata": {},
   "outputs": [],
   "source": [
    "knn = KNeighborsClassifier(n_neighbors=5)"
   ]
  },
  {
   "cell_type": "code",
   "execution_count": 45,
   "metadata": {},
   "outputs": [
    {
     "data": {
      "text/plain": [
       "KNeighborsClassifier(algorithm='auto', leaf_size=30, metric='minkowski',\n",
       "                     metric_params=None, n_jobs=None, n_neighbors=5, p=2,\n",
       "                     weights='uniform')"
      ]
     },
     "execution_count": 45,
     "metadata": {},
     "output_type": "execute_result"
    }
   ],
   "source": [
    "knn.fit(X_train, Y_train)"
   ]
  },
  {
   "cell_type": "code",
   "execution_count": 46,
   "metadata": {},
   "outputs": [
    {
     "data": {
      "text/plain": [
       "0.9842064634578874"
      ]
     },
     "execution_count": 46,
     "metadata": {},
     "output_type": "execute_result"
    }
   ],
   "source": [
    "log.score(X_train, Y_train)"
   ]
  },
  {
   "cell_type": "code",
   "execution_count": 47,
   "metadata": {},
   "outputs": [
    {
     "data": {
      "text/plain": [
       "0.9866822446155237"
      ]
     },
     "execution_count": 47,
     "metadata": {},
     "output_type": "execute_result"
    }
   ],
   "source": [
    "knn.score(X_train, Y_train)"
   ]
  },
  {
   "cell_type": "code",
   "execution_count": 49,
   "metadata": {},
   "outputs": [],
   "source": [
    "from sklearn.metrics import classification_report"
   ]
  },
  {
   "cell_type": "code",
   "execution_count": 50,
   "metadata": {},
   "outputs": [],
   "source": [
    "from sklearn.metrics import accuracy_score"
   ]
  },
  {
   "cell_type": "code",
   "execution_count": 51,
   "metadata": {},
   "outputs": [
    {
     "data": {
      "text/plain": [
       "'              precision    recall  f1-score   support\\n\\n           0       0.99      1.00      0.99     47197\\n           1       0.56      0.09      0.15       735\\n\\n    accuracy                           0.98     47932\\n   macro avg       0.78      0.54      0.57     47932\\nweighted avg       0.98      0.98      0.98     47932\\n'"
      ]
     },
     "execution_count": 51,
     "metadata": {},
     "output_type": "execute_result"
    }
   ],
   "source": [
    "classification_report(Y_test, knn.predict(X_test))"
   ]
  },
  {
   "cell_type": "code",
   "execution_count": 52,
   "metadata": {},
   "outputs": [
    {
     "data": {
      "text/plain": [
       "'              precision    recall  f1-score   support\\n\\n           0       0.98      1.00      0.99     47197\\n           1       0.50      0.00      0.01       735\\n\\n    accuracy                           0.98     47932\\n   macro avg       0.74      0.50      0.50     47932\\nweighted avg       0.98      0.98      0.98     47932\\n'"
      ]
     },
     "execution_count": 52,
     "metadata": {},
     "output_type": "execute_result"
    }
   ],
   "source": [
    "classification_reportcation_report(Y_test, log.predict(X_test))"
   ]
  },
  {
   "cell_type": "code",
   "execution_count": 53,
   "metadata": {},
   "outputs": [
    {
     "data": {
      "text/plain": [
       "0.9849787198531252"
      ]
     },
     "execution_count": 53,
     "metadata": {},
     "output_type": "execute_result"
    }
   ],
   "source": [
    "accuracy_score(Y_test, knn.predict(X_test))"
   ]
  },
  {
   "cell_type": "code",
   "execution_count": 54,
   "metadata": {},
   "outputs": [
    {
     "data": {
      "text/plain": [
       "0.984665776516732"
      ]
     },
     "execution_count": 54,
     "metadata": {},
     "output_type": "execute_result"
    }
   ],
   "source": [
    "accuracy_score(Y_test, log.predict(X_test))"
   ]
  },
  {
   "cell_type": "code",
   "execution_count": 55,
   "metadata": {},
   "outputs": [],
   "source": [
    "pred = knn.predict(X_test)"
   ]
  },
  {
   "cell_type": "code",
   "execution_count": 56,
   "metadata": {},
   "outputs": [
    {
     "data": {
      "text/plain": [
       "array([0, 0, 0, ..., 0, 0, 0])"
      ]
     },
     "execution_count": 56,
     "metadata": {},
     "output_type": "execute_result"
    }
   ],
   "source": [
    "pred"
   ]
  },
  {
   "cell_type": "code",
   "execution_count": 57,
   "metadata": {},
   "outputs": [
    {
     "data": {
      "text/plain": [
       "132869    0\n",
       "113947    0\n",
       "48015     0\n",
       "159083    0\n",
       "105162    0\n",
       "         ..\n",
       "118755    0\n",
       "80497     0\n",
       "77246     0\n",
       "186395    0\n",
       "22761     0\n",
       "Name: SepsisLabel, Length: 47932, dtype: int64"
      ]
     },
     "execution_count": 57,
     "metadata": {},
     "output_type": "execute_result"
    }
   ],
   "source": [
    "Y_test"
   ]
  },
  {
   "cell_type": "code",
   "execution_count": null,
   "metadata": {},
   "outputs": [],
   "source": []
  }
 ],
 "metadata": {
  "kernelspec": {
   "display_name": "Python 3",
   "language": "python",
   "name": "python3"
  }
 },
 "nbformat": 4,
 "nbformat_minor": 2
}
