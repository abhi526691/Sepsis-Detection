{
 "cells": [
  {
   "cell_type": "code",
   "execution_count": 1,
   "metadata": {},
   "outputs": [
    {
     "name": "stderr",
     "output_type": "stream",
     "text": [
      "/home/abhishek/yes/lib/python3.7/site-packages/sklearn/utils/validation.py:532: FutureWarning: Beginning in version 0.22, arrays of bytes/strings will be converted to decimal numbers if dtype='numeric'. It is recommended that you convert the array to a float dtype before using it in scikit-learn, for example by using your_array = your_array.astype(np.float64).\n",
      "  FutureWarning)\n",
      "/home/abhishek/yes/lib/python3.7/site-packages/sklearn/utils/validation.py:532: FutureWarning: Beginning in version 0.22, arrays of bytes/strings will be converted to decimal numbers if dtype='numeric'. It is recommended that you convert the array to a float dtype before using it in scikit-learn, for example by using your_array = your_array.astype(np.float64).\n",
      "  FutureWarning)\n"
     ]
    },
    {
     "name": "stdout",
     "output_type": "stream",
     "text": [
      "You are Safe Enjoy your life and take care of your health\n"
     ]
    }
   ],
   "source": [
    "import tkinter\n",
    "import pickle\n",
    "import numpy as np\n",
    "from sklearn.neighbors import KNeighborsClassifier\n",
    "# loaded_model = pickle.load(open(\"saved_model.sav\",'rb'))\n",
    "fileName='save_model.sav'\n",
    "loaded_model = pickle.load(open(fileName, 'rb'))\n",
    "l = []\n",
    "def predictt():\n",
    "    l.append(time.get())\n",
    "    l.append(hr.get())\n",
    "    l.append(age.get())\n",
    "    l.append(Map.get())\n",
    "    l.append(resp.get())\n",
    "    l.append(temp.get())\n",
    "    l.append(wbc.get())\n",
    "    l.append(pac02.get())\n",
    "    li = np.asarray(l).reshape(1,8)\n",
    "    mii = loaded_model.predict(li)\n",
    "    if(mii == 0):\n",
    "        print(\"You are Safe Enjoy your life and take care of your health\")\n",
    "    else:\n",
    "        print(\"You are Suffering from sepsis You should visit the nearest Medical Center\")\n",
    "window = tkinter.Tk()\n",
    "window.title(\"Sepsis Detection\")\n",
    "\n",
    "tkinter.Label(window, text = \"time\").grid(row = 0)\n",
    "time=tkinter.Entry(window)\n",
    "time.grid(row = 0, column = 1)\n",
    "\n",
    "tkinter.Label(window, text = \"HR\").grid(row = 1)\n",
    "hr=tkinter.Entry(window)\n",
    "hr.grid(row = 1, column = 1)\n",
    "\n",
    "tkinter.Label(window, text = \"Age\").grid(row = 2)\n",
    "age=tkinter.Entry(window)\n",
    "age.grid(row = 2, column = 1)\n",
    "              \n",
    "tkinter.Label(window, text = \"Map\").grid(row = 3)\n",
    "Map=tkinter.Entry(window)\n",
    "Map.grid(row = 3, column = 1)\n",
    "\n",
    "tkinter.Label(window, text = \"Resp\").grid(row =4)\n",
    "resp=tkinter.Entry(window)\n",
    "resp.grid(row = 4, column = 1)\n",
    "\n",
    "tkinter.Label(window, text = \"Temp\").grid(row = 5)\n",
    "temp=tkinter.Entry(window)\n",
    "temp.grid(row = 5, column = 1)\n",
    "\n",
    "tkinter.Label(window, text = \"WBC\").grid(row = 6)\n",
    "wbc=tkinter.Entry(window)\n",
    "wbc.grid(row = 6, column = 1)\n",
    "\n",
    "tkinter.Label(window, text = \"PaCO2\").grid(row = 7)\n",
    "pac02=tkinter.Entry(window)\n",
    "pac02.grid(row = 7, column = 1)\n",
    "\n",
    "\n",
    "tkinter.Button(window, text = \"predictt\", command=predictt).grid(row=9)\n",
    "\n",
    "\n",
    "tkinter.Label(window, text = \"\").grid(row = 10)\n",
    "\n",
    "\n",
    "window.mainloop()"
   ]
  },
  {
   "cell_type": "code",
   "execution_count": null,
   "metadata": {},
   "outputs": [],
   "source": []
  },
  {
   "cell_type": "code",
   "execution_count": null,
   "metadata": {},
   "outputs": [],
   "source": []
  },
  {
   "cell_type": "code",
   "execution_count": null,
   "metadata": {},
   "outputs": [],
   "source": []
  },
  {
   "cell_type": "code",
   "execution_count": null,
   "metadata": {},
   "outputs": [],
   "source": []
  }
 ],
 "metadata": {
  "kernelspec": {
   "display_name": "Python 3",
   "language": "python",
   "name": "python3"
  },
  "language_info": {
   "codemirror_mode": {
    "name": "ipython",
    "version": 3
   },
   "file_extension": ".py",
   "mimetype": "text/x-python",
   "name": "python",
   "nbconvert_exporter": "python",
   "pygments_lexer": "ipython3",
   "version": "3.7.4"
  }
 },
 "nbformat": 4,
 "nbformat_minor": 2
}
